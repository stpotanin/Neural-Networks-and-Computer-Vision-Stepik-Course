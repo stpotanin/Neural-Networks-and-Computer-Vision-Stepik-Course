{
  "nbformat": 4,
  "nbformat_minor": 0,
  "metadata": {
    "colab": {
      "provenance": []
    },
    "kernelspec": {
      "name": "python3",
      "display_name": "Python 3"
    },
    "language_info": {
      "name": "python"
    }
  },
  "cells": [
    {
      "cell_type": "markdown",
      "source": [
        "https://stepik.org/lesson/309343/step/6\n"
      ],
      "metadata": {
        "id": "Wgv4tkt5YhPT"
      }
    },
    {
      "cell_type": "markdown",
      "source": [
        "входной тензор править не нужно, он обрабатывается за кадром. В задании требуется из ядра W построить тензор W', т.е. расположить красные квадратики среди белых нулей. Я рекомендую сначала вычислить выходные размеры, создать выходной тензор из нулей и в нем нужные позиции замещать значениями из исходного ядра. Но, разумеется, можно и по-другому.\n",
        "\n",
        "[Mastering Tensor Padding in PyTorch: A Guide to Reflect and Replicate](https://medium.com/aimonks/mastering-tensor-padding-in-pytorch-a-guide-to-reflect-and-replicate-441b4fa8b0b4)"
      ],
      "metadata": {
        "id": "UkdDK8RzKFbh"
      }
    },
    {
      "cell_type": "code",
      "source": [
        "#@title Решение\n",
        "import torch\n",
        "import torch.nn.functional as F\n",
        "from abc import ABC, abstractmethod\n",
        "\n",
        "\n",
        "def calc_out_shape(input_matrix_shape, out_channels, kernel_size, stride, padding):\n",
        "    batch_size, channels_count, input_height, input_width = input_matrix_shape\n",
        "    output_height = (input_height + 2 * padding - (kernel_size - 1) - 1) // stride + 1\n",
        "    output_width = (input_width + 2 * padding - (kernel_size - 1) - 1) // stride + 1\n",
        "\n",
        "    return batch_size, out_channels, output_height, output_width\n",
        "\n",
        "\n",
        "class ABCConv2d(ABC):\n",
        "    def __init__(self, in_channels, out_channels, kernel_size, stride):\n",
        "        self.in_channels = in_channels\n",
        "        self.out_channels = out_channels\n",
        "        self.kernel_size = kernel_size\n",
        "        self.stride = stride\n",
        "\n",
        "    def set_kernel(self, kernel):\n",
        "        self.kernel = kernel\n",
        "\n",
        "    @abstractmethod\n",
        "    def __call__(self, input_tensor):\n",
        "        pass\n",
        "\n",
        "\n",
        "class Conv2d(ABCConv2d):\n",
        "    def __init__(self, in_channels, out_channels, kernel_size, stride):\n",
        "        self.conv2d = torch.nn.Conv2d(in_channels, out_channels, kernel_size,\n",
        "                                      stride, padding=0, bias=False)\n",
        "\n",
        "    def set_kernel(self, kernel):\n",
        "        self.conv2d.weight.data = kernel\n",
        "\n",
        "    def __call__(self, input_tensor):\n",
        "        return self.conv2d(input_tensor)\n",
        "\n",
        "\n",
        "def create_and_call_conv2d_layer(conv2d_layer_class, stride, kernel, input_matrix):\n",
        "    out_channels = kernel.shape[0]\n",
        "    in_channels = kernel.shape[1]\n",
        "    kernel_size = kernel.shape[2]\n",
        "\n",
        "    layer = conv2d_layer_class(in_channels, out_channels, kernel_size, stride)\n",
        "    layer.set_kernel(kernel)\n",
        "\n",
        "    return layer(input_matrix)\n",
        "\n",
        "\n",
        "def test_conv2d_layer(conv2d_layer_class, batch_size=1,\n",
        "                      input_height=4, input_width=4, stride=2): # размеры задаём здесь для удобства\n",
        "    kernel = torch.tensor(\n",
        "                      [[[[0., 1, 0],\n",
        "                         [1,  2, 1],\n",
        "                         [0,  1, 0]],\n",
        "\n",
        "                        [[1, 2, 1],\n",
        "                         [0, 3, 3],\n",
        "                         [0, 1, 10]],\n",
        "\n",
        "                        [[10, 11, 12],\n",
        "                         [13, 14, 15],\n",
        "                         [16, 17, 18]]]])\n",
        "\n",
        "    in_channels = kernel.shape[1] # из ядра получаем число каналов для генерации батча с картинками\n",
        "    # генерируем батч\n",
        "    input_tensor = torch.arange(0, batch_size * in_channels *\n",
        "                                input_height * input_width,\n",
        "                                out=torch.FloatTensor()) \\\n",
        "        .reshape(batch_size, in_channels, input_height, input_width) # создаём ему нужную форму\n",
        "    # глянем размеры батча\n",
        "    # print('input_tensor.shape (картинок в батче, каналов, размеры картинки) = ', input_tensor.shape)\n",
        "    # print('input_tensor = ', input_tensor)\n",
        "\n",
        "    custom_conv2d_out = create_and_call_conv2d_layer(\n",
        "        conv2d_layer_class, stride, kernel, input_tensor)\n",
        "    conv2d_out = create_and_call_conv2d_layer(\n",
        "        Conv2d, stride, kernel, input_tensor)\n",
        "\n",
        "    # Approximate equality comparison\n",
        "    # https://www.slingacademy.com/article/pytorch-how-to-compare-2-tensors/\n",
        "    return torch.allclose(custom_conv2d_out, conv2d_out) \\\n",
        "             and (custom_conv2d_out.shape == conv2d_out.shape)\n",
        "\n",
        "\n",
        "class Conv2dMatrix(ABCConv2d):\n",
        "    # Функция преобразование кернела в матрицу нужного вида\n",
        "    def _unsqueeze_kernel(self, torch_input, output_height, output_width):\n",
        "        X = torch_input\n",
        "        W = self.kernel\n",
        "        padding = 0\n",
        "\n",
        "        import numpy as np\n",
        "        # посчитаем высоту и ширину развёрнутого ядра\n",
        "        stride = self.stride\n",
        "        out_height = ((X.shape[2] - W.shape[2] + 2 * padding) // stride + 1) ** 2 # высота (разворот обычного выхода)\n",
        "        out_width = X.shape[2] ** 2 * X.shape[1]                           # ширина (разм. картинки на число каналов)\n",
        "        # print('out_height, out_width =', out_height, out_width)\n",
        "\n",
        "        # задаём шаблон развёрнутой матрицы (пока из нулей)\n",
        "        W_prime = np.zeros((out_height, out_width))\n",
        "        # print('W_prime_zeros.shape =', W_prime.shape)\n",
        "        # print('W_prime_zeros =\\n', W_prime)\n",
        "\n",
        "        # дополним матрицу исходного ядра нулями справа, если необходимо\n",
        "        # https://medium.com/aimonks/mastering-tensor-padding-in-pytorch-a-guide-to-reflect-and-replicate-441b4fa8b0b4\n",
        "        padding = (0, 1, 0, 1, 0, 0, 0, 0)\n",
        "        W_pad = F.pad(W, padding, mode='constant', value=0)\n",
        "        # print('W_pad.shape =', W_pad.shape)\n",
        "        # print('W_pad =\\n', W_pad)\n",
        "\n",
        "        # разворачиваем исходное ядро в одномерный массив\n",
        "        W_line = W_pad.reshape(-1)\n",
        "        # print('W_line.shape =', W_line.shape)\n",
        "\n",
        "        # обрезаем последний ноль, чтобы не выйти за пределы индекса в последней строке\n",
        "        W_line = W_line[:-1]\n",
        "        # print('W_line.shape =', W_line.shape)\n",
        "        # print('W_line =\\n', W_line)\n",
        "\n",
        "        indent = 0 # начальный отступ\n",
        "        # проход по строкам развёрнутой заготовки\n",
        "        for i in range(W_prime.shape[0]):\n",
        "            # проход по элементам строки\n",
        "            for j in range(W_line.shape[0]):\n",
        "                W_prime[i, indent + j] = W_line[j]\n",
        "            # увеличиваем отступ слева\n",
        "            if (indent + W.shape[0]) % X.shape[0] == 0:\n",
        "                indent += X.shape[0] - 1\n",
        "            else:\n",
        "                indent += 2\n",
        "        # print('W_prime =\\n', W_prime)\n",
        "        return torch.tensor(W_prime).float()\n",
        "\n",
        "\n",
        "    def __call__(self, torch_input):\n",
        "        batch_size, out_channels, output_height, output_width\\\n",
        "            = calc_out_shape(\n",
        "                input_matrix_shape=torch_input.shape,\n",
        "                out_channels=self.kernel.shape[0],\n",
        "                kernel_size=self.kernel.shape[2],\n",
        "                stride=self.stride,\n",
        "                padding=0)\n",
        "\n",
        "        kernel_unsqueezed = self._unsqueeze_kernel(torch_input, output_height, output_width)\n",
        "        result = kernel_unsqueezed @ torch_input.view((batch_size, -1)).permute(1, 0)\n",
        "        return result.permute(1, 0).view((batch_size, self.out_channels,\n",
        "                                          output_height, output_width))\n",
        "# Проверка происходит автоматически вызовом следующего кода\n",
        "# (раскомментируйте для самостоятельной проверки,\n",
        "#  в коде для сдачи задания должно быть закомментировано):\n",
        "print(test_conv2d_layer(Conv2dMatrix))"
      ],
      "metadata": {
        "colab": {
          "base_uri": "https://localhost:8080/"
        },
        "id": "BerQIVa0f5YB",
        "outputId": "69d14316-df79-469c-888b-2785bc185623"
      },
      "execution_count": 1,
      "outputs": [
        {
          "output_type": "stream",
          "name": "stdout",
          "text": [
            "True\n"
          ]
        }
      ]
    },
    {
      "cell_type": "code",
      "source": [
        "#@title кусочек кода, генерирующий входной тензор:\n",
        "# conv2d_layer_class, batch_size=2, input_height=4, input_width=4, stride=2\n",
        "import torch\n",
        "\n",
        "# batch_size=2\n",
        "# in_channels = kernel.shape[1]\n",
        "# # in_channels=3\n",
        "# input_height=4\n",
        "# input_width=4\n",
        "# stride=2\n",
        "\n",
        "# input_tensor = torch.arange(0, batch_size * in_channels *\n",
        "#                                 input_height * input_width,\n",
        "#                                 out=torch.FloatTensor()) \\\n",
        "#         .reshape(batch_size, in_channels, input_height, input_width)\n",
        "\n",
        "# input_tensor"
      ],
      "metadata": {
        "id": "9AzZLBrMu0Pz"
      },
      "execution_count": 2,
      "outputs": []
    },
    {
      "cell_type": "code",
      "source": [
        "#@title кусочек кода, задающий ядро:\n",
        "import torch\n",
        "\n",
        "kernel = torch.tensor(\n",
        "                      [[[[0., 1, 0],\n",
        "                         [1,  2, 1],\n",
        "                         [0,  1, 0]],\n",
        "\n",
        "                        [[1, 2, 1],\n",
        "                         [0, 3, 3],\n",
        "                         [0, 1, 10]],\n",
        "\n",
        "                        [[10, 11, 12],\n",
        "                         [13, 14, 15],\n",
        "                         [16, 17, 18]]]])\n",
        "\n",
        "kernel"
      ],
      "metadata": {
        "id": "y3EYF6AZLe4n",
        "colab": {
          "base_uri": "https://localhost:8080/"
        },
        "outputId": "100d2489-a942-4216-c355-d69a06a80d77"
      },
      "execution_count": 3,
      "outputs": [
        {
          "output_type": "execute_result",
          "data": {
            "text/plain": [
              "tensor([[[[ 0.,  1.,  0.],\n",
              "          [ 1.,  2.,  1.],\n",
              "          [ 0.,  1.,  0.]],\n",
              "\n",
              "         [[ 1.,  2.,  1.],\n",
              "          [ 0.,  3.,  3.],\n",
              "          [ 0.,  1., 10.]],\n",
              "\n",
              "         [[10., 11., 12.],\n",
              "          [13., 14., 15.],\n",
              "          [16., 17., 18.]]]])"
            ]
          },
          "metadata": {},
          "execution_count": 3
        }
      ]
    },
    {
      "cell_type": "code",
      "source": [
        "#@title Ядро свёртки с размерами (out_channels, in_channels, kernel_height, kernel_width)\n",
        "kernel = torch.tensor(\n",
        "    [[[[0., 1, 0],\n",
        "       [1,  2, 1],\n",
        "       [0,  1, 0]],\n",
        "\n",
        "      [[1, 2, 1],\n",
        "       [0, 3, 3],\n",
        "       [0, 1, 10]],\n",
        "\n",
        "      [[10, 11, 12],\n",
        "       [13, 14, 15],\n",
        "       [16, 17, 18]]]])\n",
        "\n",
        "kernel_padding = torch.nn.functional.pad(kernel, (0, 2*2-kernel.shape[3], 0, 0)).view(1, -1)\n",
        "kernel_padding = torch.nn.functional.pad(kernel_padding, (0, 12, 0, 0))\n",
        "print(kernel_padding.shape)\n",
        "kernel_padding\n",
        "\n",
        "# for i in range(kernel.shape[0]):\n",
        "#     for j in range(kernel.shape[1]):\n",
        "#         for k in range(kernel.shape[2]):\n",
        "#             print(kernel[i, j, k])\n",
        "\n",
        "\n",
        "#\n"
      ],
      "metadata": {
        "id": "p4fhBEsPqUHM",
        "colab": {
          "base_uri": "https://localhost:8080/"
        },
        "outputId": "2cfd4516-220f-4c61-ab4e-4a6e837ce760"
      },
      "execution_count": 4,
      "outputs": [
        {
          "output_type": "stream",
          "name": "stdout",
          "text": [
            "torch.Size([1, 48])\n"
          ]
        },
        {
          "output_type": "execute_result",
          "data": {
            "text/plain": [
              "tensor([[ 0.,  1.,  0.,  0.,  1.,  2.,  1.,  0.,  0.,  1.,  0.,  0.,  1.,  2.,\n",
              "          1.,  0.,  0.,  3.,  3.,  0.,  0.,  1., 10.,  0., 10., 11., 12.,  0.,\n",
              "         13., 14., 15.,  0., 16., 17., 18.,  0.,  0.,  0.,  0.,  0.,  0.,  0.,\n",
              "          0.,  0.,  0.,  0.,  0.,  0.]])"
            ]
          },
          "metadata": {},
          "execution_count": 4
        }
      ]
    },
    {
      "cell_type": "code",
      "source": [
        "#@title Функция преобразование кернела в матрицу нужного вида batch_size=1,\n",
        "batch_size, out_channels, output_height, output_width = 1, 1, 3, 3\n",
        "in_channels = kernel.shape[1]\n",
        "input_height = 4\n",
        "input_width = 4\n",
        "input_tensor = torch.arange(0, batch_size * in_channels *\n",
        "                            input_height * input_width,\n",
        "                            out=torch.FloatTensor()) \\\n",
        "    .reshape(batch_size, in_channels, input_height, input_width) # создаём ему нужную форму\n",
        "\n",
        "# Функция преобразование кернела в матрицу нужного вида.\n",
        "def unsqueeze_kernel(self, torch_input, output_height, output_width):\n",
        "        # Реализуйте функцию, возвращающую преобразованный кернел\n",
        "        kernel_unsqueezed_zeros = torch.zeros((batch_size, input_tensor.shape[1] * input_tensor.shape[2] * out_channels))\n",
        "        input_height = torch_input.shape[2]\n",
        "        input_width = torch_input.shape[3]\n",
        "        kernel_unsqueezed = torch.zeros((input_height, input_width, output_height, output_width))\n",
        "        # TODO\n",
        "        return kernel_unsqueezed\n",
        "\n",
        "kernel_unsqueezed = unsqueeze_kernel(kernel, input_tensor, output_height, output_width)\n",
        "kernel_unsqueezed\n",
        "#"
      ],
      "metadata": {
        "id": "M7bkK4i2J_BG",
        "colab": {
          "base_uri": "https://localhost:8080/"
        },
        "outputId": "52ead651-101e-4938-ce7e-3df44858029d"
      },
      "execution_count": 12,
      "outputs": [
        {
          "output_type": "execute_result",
          "data": {
            "text/plain": [
              "tensor([[[[0., 0., 0.],\n",
              "          [0., 0., 0.],\n",
              "          [0., 0., 0.]],\n",
              "\n",
              "         [[0., 0., 0.],\n",
              "          [0., 0., 0.],\n",
              "          [0., 0., 0.]],\n",
              "\n",
              "         [[0., 0., 0.],\n",
              "          [0., 0., 0.],\n",
              "          [0., 0., 0.]],\n",
              "\n",
              "         [[0., 0., 0.],\n",
              "          [0., 0., 0.],\n",
              "          [0., 0., 0.]]],\n",
              "\n",
              "\n",
              "        [[[0., 0., 0.],\n",
              "          [0., 0., 0.],\n",
              "          [0., 0., 0.]],\n",
              "\n",
              "         [[0., 0., 0.],\n",
              "          [0., 0., 0.],\n",
              "          [0., 0., 0.]],\n",
              "\n",
              "         [[0., 0., 0.],\n",
              "          [0., 0., 0.],\n",
              "          [0., 0., 0.]],\n",
              "\n",
              "         [[0., 0., 0.],\n",
              "          [0., 0., 0.],\n",
              "          [0., 0., 0.]]],\n",
              "\n",
              "\n",
              "        [[[0., 0., 0.],\n",
              "          [0., 0., 0.],\n",
              "          [0., 0., 0.]],\n",
              "\n",
              "         [[0., 0., 0.],\n",
              "          [0., 0., 0.],\n",
              "          [0., 0., 0.]],\n",
              "\n",
              "         [[0., 0., 0.],\n",
              "          [0., 0., 0.],\n",
              "          [0., 0., 0.]],\n",
              "\n",
              "         [[0., 0., 0.],\n",
              "          [0., 0., 0.],\n",
              "          [0., 0., 0.]]],\n",
              "\n",
              "\n",
              "        [[[0., 0., 0.],\n",
              "          [0., 0., 0.],\n",
              "          [0., 0., 0.]],\n",
              "\n",
              "         [[0., 0., 0.],\n",
              "          [0., 0., 0.],\n",
              "          [0., 0., 0.]],\n",
              "\n",
              "         [[0., 0., 0.],\n",
              "          [0., 0., 0.],\n",
              "          [0., 0., 0.]],\n",
              "\n",
              "         [[0., 0., 0.],\n",
              "          [0., 0., 0.],\n",
              "          [0., 0., 0.]]]])"
            ]
          },
          "metadata": {},
          "execution_count": 12
        }
      ]
    }
  ]
}