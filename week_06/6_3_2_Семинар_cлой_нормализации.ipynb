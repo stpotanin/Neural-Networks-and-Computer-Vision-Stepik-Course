{
  "nbformat": 4,
  "nbformat_minor": 0,
  "metadata": {
    "colab": {
      "provenance": [],
      "authorship_tag": "ABX9TyPg4niA9MNlz3Ccw42dlxcQ"
    },
    "kernelspec": {
      "name": "python3",
      "display_name": "Python 3"
    },
    "language_info": {
      "name": "python"
    }
  },
  "cells": [
    {
      "cell_type": "markdown",
      "source": [
        "https://stepik.org/lesson/303592/step/2"
      ],
      "metadata": {
        "id": "0GxCb9xCSl1L"
      }
    },
    {
      "cell_type": "code",
      "execution_count": null,
      "metadata": {
        "colab": {
          "base_uri": "https://localhost:8080/"
        },
        "id": "N9AAWrJtSS7E",
        "outputId": "3c2fc963-3897-4aa5-c935-7fa791ace456"
      },
      "outputs": [
        {
          "output_type": "stream",
          "name": "stdout",
          "text": [
            "True\n"
          ]
        }
      ],
      "source": [
        "import numpy as np\n",
        "import torch\n",
        "import torch.nn as nn\n",
        "\n",
        "def custom_batch_norm1d(input_tensor, eps):\n",
        "    beta = 0\n",
        "    gamma = 1\n",
        "    mean = torch.mean(input_tensor, dim=0)  # Среднее по батчу (по строкам)\n",
        "    '''\n",
        "    По умолчанию функция torch.var() возвращает смещённую оценку дисперсии (biased).\n",
        "    Однако, при вычислении батч-нормализации требуется несмещённая оценка дисперсии (unbiased).\n",
        "    Для этого нужно передать аргумент unbiased=False в torch.var()\n",
        "    '''\n",
        "    var = torch.var(input_tensor, dim=0, unbiased=False)  # Дисперсия по батчу (по строкам)\n",
        "    std = torch.sqrt(var + eps)  # Стандартное отклонение\n",
        "    normed_tensor = (input_tensor - mean) / std  # Нормализация\n",
        "    normed_tensor = normed_tensor * gamma + beta  # Масштабирование и сдвиг\n",
        "    return normed_tensor\n",
        "\n",
        "\n",
        "input_tensor = torch.Tensor([[0.0, 0, 1, 0, 2], [0, 1, 1, 0, 10]])\n",
        "batch_norm = nn.BatchNorm1d(input_tensor.shape[1], affine=False)\n",
        "\n",
        "# Проверка происходит автоматически вызовом следующего кода\n",
        "# (раскомментируйте для самостоятельной проверки,\n",
        "#  в коде для сдачи задания должно быть закомментировано):\n",
        "import numpy as np\n",
        "all_correct = True\n",
        "for eps_power in range(10):\n",
        "    eps = np.power(10., -eps_power)\n",
        "    batch_norm.eps = eps\n",
        "    batch_norm_out = batch_norm(input_tensor)\n",
        "    custom_batch_norm_out = custom_batch_norm1d(input_tensor, eps)\n",
        "\n",
        "    all_correct &= torch.allclose(batch_norm_out, custom_batch_norm_out)\n",
        "    all_correct &= batch_norm_out.shape == custom_batch_norm_out.shape\n",
        "print(all_correct)"
      ]
    }
  ]
}
