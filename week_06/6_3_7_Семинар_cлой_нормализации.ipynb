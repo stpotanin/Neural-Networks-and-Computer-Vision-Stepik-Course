{
  "nbformat": 4,
  "nbformat_minor": 0,
  "metadata": {
    "colab": {
      "provenance": [],
      "authorship_tag": "ABX9TyOPbZFjC3S/vmzpeEhAsjrq"
    },
    "kernelspec": {
      "name": "python3",
      "display_name": "Python 3"
    },
    "language_info": {
      "name": "python"
    }
  },
  "cells": [
    {
      "cell_type": "markdown",
      "source": [
        "https://stepik.org/lesson/303592/step/7"
      ],
      "metadata": {
        "id": "0GxCb9xCSl1L"
      }
    },
    {
      "cell_type": "code",
      "source": [
        "import torch\n",
        "import torch.nn as nn\n",
        "\n",
        "\n",
        "eps = 1e-10\n",
        "\n",
        "\n",
        "def custom_layer_norm(input_tensor, eps):\n",
        "    # Напишите в этом месте нормирование тензора.\n",
        "    # требуется нормировать данные не по одной оси, а по всем размерностям, кроме нулевой\n",
        "    # Получаем размерность тензора\n",
        "    input_tensor_shape = input_tensor.shape\n",
        "\n",
        "    # # Способ 1. Не работает на платформе!\n",
        "    # # Определяем оси для нормализации (все, кроме нулевой)\n",
        "    # axes_to_normalize = tuple(range(1, len(input_tensor_shape)))\n",
        "    # # Нормализуем тензор\n",
        "    # mean = input_tensor.mean(dim=axes_to_normalize, keepdim=True)\n",
        "    # var = input_tensor.var(dim=axes_to_normalize, keepdim=True, unbiased=False)\n",
        "    # normalized_tensor = (input_tensor - mean) / torch.sqrt(var + eps)\n",
        "    # return normalized_tensor\n",
        "\n",
        "    # Способ 2. Через .reshape\n",
        "    # Получаем размерность тензора\n",
        "    input_tensor_shape = input_tensor.shape\n",
        "\n",
        "    #  Создаем новый тензор, переформированный в (N, -1),\n",
        "    #  где N - количество образцов, а -1 означает, что оставшиеся размерности\n",
        "    #  будут вычислены автоматически.\n",
        "    reshaped_tensor = input_tensor.reshape(input_tensor_shape[0], -1)\n",
        "\n",
        "    # Вычисляем среднее значение и стандартное отклонение по всем осям, кроме нулевой\n",
        "    mean = reshaped_tensor.mean(dim=1, keepdim=True)\n",
        "    var = reshaped_tensor.var(dim=1, keepdim=True, unbiased=False)\n",
        "\n",
        "    # Нормализуем данные\n",
        "    normalized_tensor = (reshaped_tensor - mean) / torch.sqrt(var + eps)\n",
        "\n",
        "    # Возвращаем тензор в исходную форму\n",
        "    normalized_tensor = normalized_tensor.reshape(input_tensor_shape)\n",
        "    return normalized_tensor\n",
        "\n",
        "\n",
        "# Проверка происходит автоматически вызовом следующего кода\n",
        "# (раскомментируйте для самостоятельной проверки,\n",
        "#  в коде для сдачи задания должно быть закомментировано):\n",
        "all_correct = True\n",
        "for dim_count in range(3, 9):\n",
        "    input_tensor = torch.randn(*list(range(3, dim_count + 2)), dtype=torch.float)\n",
        "    print(input_tensor.shape)\n",
        "    layer_norm = nn.LayerNorm(input_tensor.size()[1:], elementwise_affine=False, eps=eps)\n",
        "\n",
        "    norm_output = layer_norm(input_tensor)\n",
        "    custom_output = custom_layer_norm(input_tensor, eps)\n",
        "\n",
        "    all_correct &= torch.allclose(norm_output, custom_output, 1e-2)\n",
        "    all_correct &= norm_output.shape == custom_output.shape\n",
        "print(all_correct)"
      ],
      "metadata": {
        "colab": {
          "base_uri": "https://localhost:8080/"
        },
        "id": "HchxI4A9OTEG",
        "outputId": "0aff98dc-7f47-490b-9037-59d0b5885764"
      },
      "execution_count": null,
      "outputs": [
        {
          "output_type": "stream",
          "name": "stdout",
          "text": [
            "torch.Size([3, 4])\n",
            "torch.Size([3, 4, 5])\n",
            "torch.Size([3, 4, 5, 6])\n",
            "torch.Size([3, 4, 5, 6, 7])\n",
            "torch.Size([3, 4, 5, 6, 7, 8])\n",
            "torch.Size([3, 4, 5, 6, 7, 8, 9])\n",
            "True\n"
          ]
        }
      ]
    }
  ]
}
