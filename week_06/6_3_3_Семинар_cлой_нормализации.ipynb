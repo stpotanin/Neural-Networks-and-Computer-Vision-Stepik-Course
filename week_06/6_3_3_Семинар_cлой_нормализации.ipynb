{
  "nbformat": 4,
  "nbformat_minor": 0,
  "metadata": {
    "colab": {
      "provenance": [],
      "authorship_tag": "ABX9TyOtjm+sT8Kedq5+VyF1D2Dd"
    },
    "kernelspec": {
      "name": "python3",
      "display_name": "Python 3"
    },
    "language_info": {
      "name": "python"
    }
  },
  "cells": [
    {
      "cell_type": "markdown",
      "source": [
        "https://stepik.org/lesson/303592/step/3"
      ],
      "metadata": {
        "id": "0GxCb9xCSl1L"
      }
    },
    {
      "cell_type": "code",
      "source": [
        "import torch\n",
        "import torch.nn as nn\n",
        "\n",
        "input_size = 7\n",
        "batch_size = 5\n",
        "input_tensor = torch.randn(batch_size, input_size, dtype=torch.float)\n",
        "\n",
        "eps = 1e-3\n",
        "\n",
        "def custom_batch_norm1d(input_tensor, weight=None, bias=None, eps=1e-4):\n",
        "    if weight is None:\n",
        "        # weight = torch.ones(input_tensor.shape[1])\n",
        "        weight = 1\n",
        "    if bias is None:\n",
        "        # bias = torch.zeros(input_tensor.shape[1])\n",
        "        bias = 0\n",
        "\n",
        "    mean = torch.mean(input_tensor, dim=0)  # Среднее по батчу (по строкам)\n",
        "    var = torch.var(input_tensor, dim=0, unbiased=False)  # Дисперсия по батчу (по строкам)\n",
        "    std = torch.sqrt(var + eps)  # Стандартное отклонение\n",
        "    normed_tensor = (input_tensor - mean) / std  # Нормализация\n",
        "    normed_tensor = normed_tensor * weight + bias  # Масштабирование и сдвиг\n",
        "    return normed_tensor\n",
        "\n",
        "# Проверка происходит автоматически вызовом следующего кода\n",
        "# (раскомментируйте для самостоятельной проверки,\n",
        "#  в коде для сдачи задания должно быть закомментировано):\n",
        "batch_norm = nn.BatchNorm1d(input_size, eps=eps)\n",
        "batch_norm.bias.data = torch.randn(input_size, dtype=torch.float)\n",
        "batch_norm.weight.data = torch.randn(input_size, dtype=torch.float)\n",
        "batch_norm_out = batch_norm(input_tensor)\n",
        "custom_batch_norm_out = custom_batch_norm1d(input_tensor, batch_norm.weight.data, batch_norm.bias.data, eps)\n",
        "print(torch.allclose(batch_norm_out, custom_batch_norm_out, 1e-3) \\\n",
        "      and batch_norm_out.shape == custom_batch_norm_out.shape)"
      ],
      "metadata": {
        "colab": {
          "base_uri": "https://localhost:8080/"
        },
        "id": "lgpGUsnxlG38",
        "outputId": "5c7f2e38-6336-40fb-c2a6-7286da8cbdaa"
      },
      "execution_count": null,
      "outputs": [
        {
          "output_type": "stream",
          "name": "stdout",
          "text": [
            "True\n"
          ]
        }
      ]
    }
  ]
}
