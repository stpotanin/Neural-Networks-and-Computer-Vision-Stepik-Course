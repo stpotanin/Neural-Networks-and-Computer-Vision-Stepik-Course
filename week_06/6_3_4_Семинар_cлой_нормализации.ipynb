{
  "nbformat": 4,
  "nbformat_minor": 0,
  "metadata": {
    "colab": {
      "provenance": [],
      "authorship_tag": "ABX9TyNDoDhR1tdxkPtRxAYDDeFU"
    },
    "kernelspec": {
      "name": "python3",
      "display_name": "Python 3"
    },
    "language_info": {
      "name": "python"
    }
  },
  "cells": [
    {
      "cell_type": "markdown",
      "source": [
        "https://stepik.org/lesson/303592/step/4\n",
        "\n",
        "[Экспоненциальное скользящее среднее | Exponential Moving Average, EMA](https://allfi.biz/Forex-TechnicalAnalysis-Trend-Indicators-jeksponencialnoe-skolzjashhee-srednee/)"
      ],
      "metadata": {
        "id": "0GxCb9xCSl1L"
      }
    },
    {
      "cell_type": "code",
      "source": [
        "import torch\n",
        "import torch.nn as nn\n",
        "\n",
        "input_size = 3\n",
        "batch_size = 5\n",
        "eps = 1e-1\n",
        "\n",
        "class CustomBatchNorm1d:\n",
        "    def __init__(self, weight, bias, eps, momentum):\n",
        "        self.weight = weight\n",
        "        self.bias = bias\n",
        "        self.eps = eps\n",
        "        self.momentum = momentum\n",
        "\n",
        "        # Инициализируем среднее и дисперсию так же, как это делает PyTorch\n",
        "        self.running_mean = torch.zeros_like(weight)\n",
        "        self.running_var = torch.ones_like(weight)\n",
        "        # Хотя и так будет работать:\n",
        "        # self.running_mean = 0\n",
        "        # self.running_var = 1\n",
        "\n",
        "        # По умолчанию модель в режиме обучения\n",
        "        self.is_training = True\n",
        "\n",
        "    def __call__(self, input_tensor):\n",
        "        if self.is_training:\n",
        "            # Во время обучения вычисляем среднее и смещённую дисперсию по батчу\n",
        "            mean = torch.mean(input_tensor, dim=0)\n",
        "            var = torch.var(input_tensor, dim=0, unbiased=False)  # Смещённая дисперсия\n",
        "            # Для варианта 2:\n",
        "            # var_unbiased = torch.var(input_tensor, dim=0, unbiased=True)  # Несмещённая дисперсия\n",
        "\n",
        "            # Обновляем скользящие средние\n",
        "            self.running_mean = self.momentum * self.running_mean + (1 - self.momentum) * mean\n",
        "            self.running_var = self.momentum * self.running_var + (1 - self.momentum) * var * batch_size / (batch_size - 1)\n",
        "            # Вариант 2:\n",
        "            # self.running_var = self.momentum * self.running_var + (1 - self.momentum) * var_unbiased\n",
        "        else:\n",
        "            # В режиме предсказания используем накопленные значения\n",
        "            mean = self.running_mean\n",
        "            var = self.running_var\n",
        "\n",
        "        # Нормализация с добавлением eps для стабильности\n",
        "        std = torch.sqrt(var + self.eps)  # Стандартное отклонение\n",
        "        normed_tensor = (input_tensor - mean) / std  # Нормализация\n",
        "        normed_tensor = normed_tensor * self.weight + self.bias  # Масштабирование и сдвиг\n",
        "\n",
        "        return normed_tensor\n",
        "\n",
        "    def eval(self):\n",
        "        # Переключение на режим предсказания\n",
        "        self.is_training = False\n",
        "\n",
        "        # Отключаем вычисление градиентов для параметров\n",
        "        self.weight = self.weight.detach()\n",
        "        self.bias = self.bias.detach()\n",
        "\n",
        "# Инициализация стандартной BatchNorm1d для проверки\n",
        "batch_norm = nn.BatchNorm1d(input_size, eps=eps)\n",
        "batch_norm.bias.data = torch.randn(input_size, dtype=torch.float)\n",
        "batch_norm.weight.data = torch.randn(input_size, dtype=torch.float)\n",
        "batch_norm.momentum = 0.5\n",
        "\n",
        "# Создание экземпляра кастомного класса\n",
        "custom_batch_norm1d = CustomBatchNorm1d(batch_norm.weight.data,\n",
        "                                        batch_norm.bias.data, eps, batch_norm.momentum)\n",
        "\n",
        "# Проверка совпадения результатов\n",
        "all_correct = True\n",
        "\n",
        "# Проверка в режиме обучения\n",
        "for i in range(8):\n",
        "    torch_input = torch.randn(batch_size, input_size, dtype=torch.float)\n",
        "    norm_output = batch_norm(torch_input)\n",
        "    custom_output = custom_batch_norm1d(torch_input)\n",
        "    all_correct &= torch.allclose(norm_output, custom_output, atol=1e-04) \\\n",
        "        and norm_output.shape == custom_output.shape\n",
        "        # Проверка совпадения результатов\n",
        "\n",
        "# Переключение на режим предсказания\n",
        "batch_norm.eval()\n",
        "custom_batch_norm1d.eval()\n",
        "\n",
        "# Проверка в режиме предсказания\n",
        "for i in range(8):\n",
        "    torch_input = torch.randn(batch_size, input_size, dtype=torch.float)\n",
        "    norm_output = batch_norm(torch_input)\n",
        "    custom_output = custom_batch_norm1d(torch_input)\n",
        "    all_correct &= torch.allclose(norm_output, custom_output, atol=1e-04) \\\n",
        "        and norm_output.shape == custom_output.shape\n",
        "\n",
        "# print(all_correct)\n"
      ],
      "metadata": {
        "colab": {
          "base_uri": "https://localhost:8080/"
        },
        "id": "vk9AI3v4wtbB",
        "outputId": "06377957-f074-44eb-8dc4-fb42ef1b70f2"
      },
      "execution_count": null,
      "outputs": [
        {
          "output_type": "stream",
          "name": "stdout",
          "text": [
            "True\n"
          ]
        }
      ]
    }
  ]
}
