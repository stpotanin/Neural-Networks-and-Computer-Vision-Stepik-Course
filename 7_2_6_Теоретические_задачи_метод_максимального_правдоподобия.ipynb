{
  "nbformat": 4,
  "nbformat_minor": 0,
  "metadata": {
    "colab": {
      "provenance": [],
      "authorship_tag": "ABX9TyPDYQD3hVajsPRL7RjGTZAj"
    },
    "kernelspec": {
      "name": "python3",
      "display_name": "Python 3"
    },
    "language_info": {
      "name": "python"
    }
  },
  "cells": [
    {
      "cell_type": "markdown",
      "source": [
        "https://stepik.org/lesson/241452/step/6\n",
        "\n",
        "[Суть метода максимального правдоподобия](https://youtu.be/2iRIqkm1mug?si=nBxGIIoSK-hQt9Ei) и [Метод максимального правдоподобия в непрерывном случае](https://www.youtube.com/watch?v=9CeB32vxM0A) от Бориса Борисовича\n",
        "\n",
        "# Условие\n",
        "\n",
        "Найдите параметр $λ$ для [предыдущей задачи](https://stepik.org/lesson/241452/step/5), при котором достигается максимальное правдоподобие (соответственно,минимальное отрицательное логарифмическое правдоподобие).\n",
        "\n",
        "Сумму $m$ по всем $i$ обозначайте как `sum_i(m_i)`."
      ],
      "metadata": {
        "id": "h9edufOIAe_R"
      }
    },
    {
      "cell_type": "code",
      "execution_count": null,
      "metadata": {
        "id": "UZpIj0USAYEs"
      },
      "outputs": [],
      "source": [
        "# k*l-sum_i(m_i)*log(l) функция\n",
        "\n",
        "# k-sum_i(m_i)/l        производная\n",
        "\n",
        "#  l = sum_i(m_i) / k   по результатам приравнивания производной нулю\n",
        "\n",
        "# sum_i(m_i)/k          Ответ"
      ]
    }
  ]
}