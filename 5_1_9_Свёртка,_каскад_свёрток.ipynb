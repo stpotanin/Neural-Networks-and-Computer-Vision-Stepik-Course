{
  "nbformat": 4,
  "nbformat_minor": 0,
  "metadata": {
    "colab": {
      "provenance": []
    },
    "kernelspec": {
      "name": "python3",
      "display_name": "Python 3"
    },
    "language_info": {
      "name": "python"
    }
  },
  "cells": [
    {
      "cell_type": "markdown",
      "source": [
        "https://stepik.org/lesson/193595/step/9"
      ],
      "metadata": {
        "id": "Wgv4tkt5YhPT"
      }
    },
    {
      "cell_type": "code",
      "source": [
        "import torch\n",
        "from torch import nn\n",
        "from math import prod\n",
        "\n",
        "conv = nn.Conv2d(2, 8, kernel_size=3, padding=1, stride=2, bias=False)\n",
        "X = torch.zeros(2, 4, 5)\n",
        "prod(conv(X).shape)"
      ],
      "metadata": {
        "colab": {
          "base_uri": "https://localhost:8080/"
        },
        "id": "QceWcIZ-i4Z-",
        "outputId": "2611e725-c14f-4603-98d2-7fd4130b33c7"
      },
      "execution_count": null,
      "outputs": [
        {
          "output_type": "execute_result",
          "data": {
            "text/plain": [
              "48"
            ]
          },
          "metadata": {},
          "execution_count": 1
        }
      ]
    },
    {
      "cell_type": "code",
      "source": [
        "def conv2len(length, kern, padding, stride):\n",
        "    return (length - kern + 2 * padding) // stride + 1\n",
        "\n",
        "x, y = 4, 5\n",
        "kern = 3\n",
        "padding = 1\n",
        "stride = 2\n",
        "filt = 8\n",
        "\n",
        "conv2len(x, kern, padding, stride) * conv2len(y, kern, padding, stride) * filt"
      ],
      "metadata": {
        "colab": {
          "base_uri": "https://localhost:8080/"
        },
        "id": "dZ6eWBtufaAZ",
        "outputId": "fe6acb5c-7b73-4f70-a2f2-7dbca624290f"
      },
      "execution_count": null,
      "outputs": [
        {
          "output_type": "execute_result",
          "data": {
            "text/plain": [
              "48"
            ]
          },
          "metadata": {},
          "execution_count": 2
        }
      ]
    },
    {
      "cell_type": "code",
      "source": [
        "out_len = lambda length, kern, padding, stride:(length - kern + 2 * padding) // stride + 1\n",
        "\n",
        "out_len(x, kern, padding, stride) * out_len(y, kern, padding, stride) * filt"
      ],
      "metadata": {
        "id": "Fu6yxpOpk4Ke",
        "colab": {
          "base_uri": "https://localhost:8080/"
        },
        "outputId": "7ea8a0f1-2697-4f2f-dc09-98c79100ab32"
      },
      "execution_count": null,
      "outputs": [
        {
          "output_type": "execute_result",
          "data": {
            "text/plain": [
              "48"
            ]
          },
          "metadata": {},
          "execution_count": 4
        }
      ]
    },
    {
      "cell_type": "markdown",
      "source": [
        "### Входные данные:\n",
        "- Размер входной матрицы признаков: 4 (высота) × 5 (ширина) × 2 (каналы).\n",
        "- Размеры ядра свёртки: 3 × 3.\n",
        "- Шаг свёртки (stride): 2.\n",
        "- Паддинг (padding): 1.\n",
        "- Количество выходных фильтров: 8.\n",
        "\n",
        "Формулы для вычисления высоты и ширины выходной матрицы:\n",
        "\n",
        "$$\n",
        "\\text{Выходная высота} = \\left\\lfloor \\frac{\\text{Входная высота} - \\text{Размер ядра} + 2 \\times \\text{Паддинг}}{\\text{Шаг}} \\right\\rfloor + 1\n",
        "$$\n",
        "\n",
        "$$\n",
        "\\text{Выходная ширина} = \\left\\lfloor \\frac{\\text{Входная ширина} - \\text{Размер ядра} + 2 \\times \\text{Паддинг}}{\\text{Шаг}} \\right\\rfloor + 1\n",
        "$$\n",
        "\n",
        "$$\n",
        "\\text{Выходная высота} = \\left\\lfloor \\frac{4 - 3 + 2 \\times 1}{2} \\right\\rfloor + 1 = \\left\\lfloor \\frac{4 - 3 + 2}{2} \\right\\rfloor + 1 = \\left\\lfloor \\frac{3}{2} \\right\\rfloor + 1 = \\left\\lfloor 1.5 \\right\\rfloor + 1 = 1 + 1 = 2\n",
        "$$\n",
        "\n",
        "$$\n",
        "\\text{Выходная ширина} = \\left\\lfloor \\frac{5 - 3 + 2 \\times 1}{2} \\right\\rfloor + 1 = \\left\\lfloor \\frac{5 - 3 + 2}{2} \\right\\rfloor + 1 = \\left\\lfloor \\frac{4}{2} \\right\\rfloor + 1 = \\left\\lfloor 2 \\right\\rfloor + 1 = 2 + 1 = 3\n",
        "$$\n",
        "\n",
        "Итоговый размер выходной матрицы: 2 (высота) × 3 (ширина) × 8 (количество каналов).\n",
        "\n",
        "$$\n",
        "\\text{Количество элементов} = 2 \\times 3 \\times 8 = 48\n",
        "$$\n",
        "\n",
        "**Ответ:** В матрице, полученной в результате применения свёртки, будет 48 элементов."
      ],
      "metadata": {
        "id": "6QXljW0WKyrn"
      }
    }
  ]
}