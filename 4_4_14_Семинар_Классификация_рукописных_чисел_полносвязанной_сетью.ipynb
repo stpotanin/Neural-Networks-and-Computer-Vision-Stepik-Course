{
  "nbformat": 4,
  "nbformat_minor": 0,
  "metadata": {
    "colab": {
      "provenance": [],
      "gpuType": "T4",
      "authorship_tag": "ABX9TyN6I9RBmQQN8S9EAhpzd+GY"
    },
    "kernelspec": {
      "name": "python3",
      "display_name": "Python 3"
    },
    "language_info": {
      "name": "python"
    },
    "accelerator": "GPU"
  },
  "cells": [
    {
      "cell_type": "markdown",
      "source": [
        "https://stepik.org/lesson/211876/step/14\n",
        "\n",
        "[Знакомство с трансформерами. Часть 1](https://habr.com/ru/companies/wunderfund/articles/592231/)"
      ],
      "metadata": {
        "id": "riCVTOz35jVX"
      }
    },
    {
      "cell_type": "code",
      "source": [
        "import torch\n",
        "\n",
        "# Сперва создадим тензор x:\n",
        "x = torch.tensor([[10., 20.]])\n",
        "\n",
        "# Оригинальный полносвязный слой с 2-мя входами и 3-мя нейронами (выходами):\n",
        "fc = torch.nn.Linear(2, 3)\n",
        "\n",
        "# Веса fc-слоя хранятся в fc.weight, а bias'ы соответственно в fc.bias\n",
        "# fc.weight и fc.bias по умолчанию инициализируются случайными числами\n",
        "\n",
        "# Давайте проставим свои значения в веса и bias'ы:\n",
        "w = torch.tensor([[11., 12.], [21., 22.], [31., 32]])\n",
        "fc.weight.data = w\n",
        "\n",
        "b = torch.tensor([[31., 32., 33.]])\n",
        "fc.bias.data = b\n",
        "\n",
        "# Получим выход fc-слоя:\n",
        "fc_out = fc(x)\n",
        "\n",
        "# Попробуем теперь получить аналогичные выходы с помощью матричного перемножения:\n",
        "# x * w.T + b\n",
        "# fc_out_alternative = torch.mm(x, torch.t(w)) + b      # вариант 1\n",
        "# fc_out_alternative = x @ torch.t(w) + b               # вариант 2\n",
        "fc_out_alternative = torch.matmul(x, torch.t(w)) + b    # вариант 3\n",
        "\n",
        "# Проверка осуществляется автоматически вызовом функции\n",
        "print(fc_out == fc_out_alternative)\n",
        "# (раскомментируйте, если решаете задачу локально)"
      ],
      "metadata": {
        "colab": {
          "base_uri": "https://localhost:8080/"
        },
        "id": "GGvVrarONEuj",
        "outputId": "122ca0f5-6aa7-4818-e788-55f416a354b2"
      },
      "execution_count": null,
      "outputs": [
        {
          "output_type": "stream",
          "name": "stdout",
          "text": [
            "tensor([[True, True, True]])\n"
          ]
        }
      ]
    },
    {
      "cell_type": "code",
      "source": [
        "import sys\n",
        "from datetime import datetime\n",
        "\n",
        "a = ['2022-06-15',\n",
        "    '2022-06-12',\n",
        "    '2022-06-16',\n",
        "    '2022-06-30']\n",
        "\n",
        "x_max, x_min = 0, 99999999\n",
        "# for line in sys.stdin:\n",
        "for line in a:\n",
        "    # print(line.strip('\\n'))\n",
        "    x = datetime.strptime(line, '%Y-%m-%d').toordinal()\n",
        "    print(x)\n",
        "    x_max = max(x_max, x)\n",
        "    x_min = min(x_min, x)\n",
        "x_max - x_min"
      ],
      "metadata": {
        "colab": {
          "base_uri": "https://localhost:8080/"
        },
        "id": "ACkOGJdZ5EL2",
        "outputId": "d7f048b0-db4a-4269-d5a4-ee02c7f1d807"
      },
      "execution_count": null,
      "outputs": [
        {
          "output_type": "stream",
          "name": "stdout",
          "text": [
            "738321\n",
            "738318\n",
            "738322\n",
            "738336\n"
          ]
        },
        {
          "output_type": "execute_result",
          "data": {
            "text/plain": [
              "18"
            ]
          },
          "metadata": {},
          "execution_count": 55
        }
      ]
    }
  ]
}