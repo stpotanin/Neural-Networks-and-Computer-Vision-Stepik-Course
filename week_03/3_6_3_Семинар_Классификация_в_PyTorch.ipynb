{
  "nbformat": 4,
  "nbformat_minor": 0,
  "metadata": {
    "colab": {
      "provenance": [],
      "authorship_tag": "ABX9TyMS+BUkoGvjuMmuG1Eecr20"
    },
    "kernelspec": {
      "name": "python3",
      "display_name": "Python 3"
    },
    "language_info": {
      "name": "python"
    }
  },
  "cells": [
    {
      "cell_type": "markdown",
      "source": [
        "https://stepik.org/lesson/205548/step/3\n",
        "\n",
        "В этом задании вам нужно подобрать seed, чтобы функция random.randint(0, 10) выдала число 5"
      ],
      "metadata": {
        "id": "k3DszqaBE6Ya"
      }
    },
    {
      "cell_type": "code",
      "source": [
        "# 7"
      ],
      "metadata": {
        "id": "8h3LkCgErR7P"
      },
      "execution_count": null,
      "outputs": []
    },
    {
      "cell_type": "code",
      "execution_count": null,
      "metadata": {
        "colab": {
          "base_uri": "https://localhost:8080/"
        },
        "id": "ND6huof9E1WD",
        "outputId": "626688d6-9130-4cad-a0df-5fe32ce4be77"
      },
      "outputs": [
        {
          "output_type": "stream",
          "name": "stdout",
          "text": [
            "Нужный seed = 7\n"
          ]
        }
      ],
      "source": [
        "import random\n",
        "\n",
        "for s in range(1000):\n",
        "    random.seed(s)\n",
        "    if random.randint(0, 10) == 5:\n",
        "        print('Нужный seed =', s)\n",
        "        break"
      ]
    }
  ]
}
