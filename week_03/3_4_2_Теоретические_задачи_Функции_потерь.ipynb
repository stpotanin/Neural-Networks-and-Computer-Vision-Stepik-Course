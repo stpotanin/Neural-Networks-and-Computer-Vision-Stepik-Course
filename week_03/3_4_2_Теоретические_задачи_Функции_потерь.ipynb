{
  "nbformat": 4,
  "nbformat_minor": 0,
  "metadata": {
    "colab": {
      "provenance": [],
      "authorship_tag": "ABX9TyPf1Rw2RGAHVfRqgWaQwEtT"
    },
    "kernelspec": {
      "name": "python3",
      "display_name": "Python 3"
    },
    "language_info": {
      "name": "python"
    }
  },
  "cells": [
    {
      "cell_type": "markdown",
      "source": [
        "# [Задача 2](https://stepik.org/lesson/223826/step/2)"
      ],
      "metadata": {
        "id": "GeEXn1gfKUt6"
      }
    },
    {
      "cell_type": "code",
      "source": [
        "# M/N"
      ],
      "metadata": {
        "id": "YvM8AsajKlwF"
      },
      "execution_count": null,
      "outputs": []
    },
    {
      "cell_type": "markdown",
      "source": [
        "# Решение\n",
        "\n",
        "1. **Функция правдоподобия**  для *всех* наблюдений до логарифмирования:\n",
        "   \n",
        "   $$L(p) = \\prod_{i=1}^N [p^{t_i} (1-p)^{(1-t_i)}]$$\n",
        "\n",
        "Чтобы найти значение $p$, максимизирующее $L(p)$, мы будем минимизироваать $-log(L(p))$, т.к. это удобнее для нахождения производной (логарифмирование превращает произведение в сумму).\n",
        "\n",
        "2. **Логарифмирование**:\n",
        "\n",
        "   $log(L(p)) = log\\left(\\prod_{i=1}^N [p^{t_i} (1-p)^{(1-t_i)}]\\right)$\n",
        "\n",
        "   $log L(p) = Σ_{i=1}^N [t_i log p + (1-t_i) log(1-p)]$\n",
        "\n",
        "3. **Отрицательный логарифм**:\n",
        "   \n",
        "   $-log(L(p)) = -Σ_{i=1}^N [t_i log p + (1-t_i) log(1-p)]$\n",
        "\n",
        "   $-log(L(p)) = Σ_{i=1}^N [-t_i log p - (1-t_i) log(1-p)]$\n",
        "\n",
        "Это и есть исходная формула в нашей задаче\n",
        "\n",
        "4. **Производная по $p$**:\n",
        "\n",
        "   $\\frac{d}{dp} (-log(L(p))) = Σ_{i=1}^N \\left[ -\\frac{t_i}{p} + \\frac{1-t_i}{1-p} \\right]$\n",
        "\n",
        "5. Приравнивание к нулю для нахождения точки экстремума:\n",
        "\n",
        "$Σ_{i=1}^N \\left[ \\frac{t_i}{p} - \\frac{1-t_i}{1-p} \\right] = 0$\n",
        "\n",
        "6. Раскрываем знак суммы $Σ_{i=1}^Nt_i = M$ и находим $p$:\n",
        "\n",
        "$\\frac{M}{p} - \\frac{N(1-M)}{1-p} = 0$\n",
        "\n",
        "$M - Mp = Np - Mp$\n",
        "\n",
        "$p = M/N$"
      ],
      "metadata": {
        "id": "ySTWJZFWxXL6"
      }
    }
  ]
}
