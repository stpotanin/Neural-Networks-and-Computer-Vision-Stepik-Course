{
  "nbformat": 4,
  "nbformat_minor": 0,
  "metadata": {
    "colab": {
      "provenance": [],
      "authorship_tag": "ABX9TyNAOagfE/oq495mcP3u4Dxc"
    },
    "kernelspec": {
      "name": "python3",
      "display_name": "Python 3"
    },
    "language_info": {
      "name": "python"
    }
  },
  "cells": [
    {
      "cell_type": "markdown",
      "source": [
        "# [Задача 2.7.5](https://stepik.org/lesson/236466/step/5)\n",
        "Реализуйте расчет градиента для функции $ f(w)=  ∏_{i,j} log_e (log_e (w_{i,j} +7)) $ в точке $ w =[[5,10],[1,2]] $\n",
        "\n",
        "Подсказка: перемножить все значения функции можно с помощью метода `.prod()`"
      ],
      "metadata": {
        "id": "wfodIUeVXbwH"
      }
    },
    {
      "cell_type": "code",
      "execution_count": null,
      "metadata": {
        "id": "JrQYpFClXVAL",
        "colab": {
          "base_uri": "https://localhost:8080/"
        },
        "outputId": "ec9b7f18-4cff-4f13-d458-31f003554fd4"
      },
      "outputs": [
        {
          "output_type": "stream",
          "name": "stdout",
          "text": [
            "tensor(0.5463)\n"
          ]
        }
      ],
      "source": [
        "import torch\n",
        "\n",
        "w = torch.tensor(\n",
        "    [[5.,  10.],\n",
        "     [1.,  2.]], requires_grad=True)\n",
        "\n",
        "f = (w + 7).log().log().prod()\n",
        "f.backward()    # вычисляет градиент на тензоре\n",
        "# print(w.grad)\n",
        "# print(f.data)"
      ]
    }
  ]
}
