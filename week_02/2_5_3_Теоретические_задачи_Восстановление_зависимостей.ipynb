{
  "nbformat": 4,
  "nbformat_minor": 0,
  "metadata": {
    "colab": {
      "provenance": [],
      "authorship_tag": "ABX9TyP/tivY5wRE3iwR1iOSPOVS"
    },
    "kernelspec": {
      "name": "python3",
      "display_name": "Python 3"
    },
    "language_info": {
      "name": "python"
    }
  },
  "cells": [
    {
      "cell_type": "markdown",
      "source": [
        "# Задача 2.5.3\n",
        "https://stepik.org/lesson/223827/step/3"
      ],
      "metadata": {
        "id": "UPUlf43H7r04"
      }
    },
    {
      "cell_type": "code",
      "execution_count": null,
      "metadata": {
        "id": "3n9OZ3id7oZy"
      },
      "outputs": [],
      "source": [
        "# M>=N"
      ]
    }
  ]
}
