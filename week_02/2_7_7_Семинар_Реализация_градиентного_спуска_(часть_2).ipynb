{
  "nbformat": 4,
  "nbformat_minor": 0,
  "metadata": {
    "colab": {
      "provenance": [],
      "authorship_tag": "ABX9TyPj3HOnGStUPe4Ywcrv1ric"
    },
    "kernelspec": {
      "name": "python3",
      "display_name": "Python 3"
    },
    "language_info": {
      "name": "python"
    }
  },
  "cells": [
    {
      "cell_type": "markdown",
      "source": [
        "# [Задача 2.7.7](https://stepik.org/lesson/236466/step/7)\n",
        "\n",
        "Реализуйте расчет градиента для функции $ f(w)=  ∏_{i,j} log_e (log_e (w_{i,j} +7))$\n",
        "\n",
        "Пусть начальным приближением будет $ w^{t=0} = [[5,10],[1,2]] $, шаг градиентного спуска $ alpha=0.001 $. Чему будет равен $ w^{t=500} $?"
      ],
      "metadata": {
        "id": "G-cSAv-RbDFf"
      }
    },
    {
      "cell_type": "code",
      "source": [
        "import torch\n",
        "\n",
        "w = torch.tensor(\n",
        "    [[5.,  10.],\n",
        "     [1.,  2.]], requires_grad=True)\n",
        "\n",
        "alpha = 0.001\n",
        "for _ in range(500):\n",
        "    f = (w + 7).log().log().prod()\n",
        "    f.backward()\n",
        "    with torch.no_grad():\n",
        "        w -= alpha * w.grad\n",
        "        w.grad.zero_()\n",
        "\n",
        "print(w) # Код для самопроверки, не забудьте закомментировать перед"
      ],
      "metadata": {
        "colab": {
          "base_uri": "https://localhost:8080/"
        },
        "id": "h8fuughTdEbV",
        "outputId": "88f2013a-a13d-4cca-f85f-21ea5112b0a2"
      },
      "execution_count": null,
      "outputs": [
        {
          "output_type": "stream",
          "name": "stdout",
          "text": [
            "tensor([[4.9900, 9.9948],\n",
            "        [0.9775, 1.9825]], requires_grad=True)\n"
          ]
        }
      ]
    }
  ]
}
