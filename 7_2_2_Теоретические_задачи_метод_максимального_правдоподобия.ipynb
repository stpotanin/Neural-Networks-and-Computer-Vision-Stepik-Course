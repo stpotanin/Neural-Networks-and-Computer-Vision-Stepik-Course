{
  "nbformat": 4,
  "nbformat_minor": 0,
  "metadata": {
    "colab": {
      "provenance": [],
      "authorship_tag": "ABX9TyMyVFieMb8gjmKYHTAMqdW8"
    },
    "kernelspec": {
      "name": "python3",
      "display_name": "Python 3"
    },
    "language_info": {
      "name": "python"
    }
  },
  "cells": [
    {
      "cell_type": "markdown",
      "source": [
        "https://stepik.org/lesson/241452/step/2\n",
        "\n",
        "Пусть некоторая случайная величина $ξ$ распределена согласно некоторому распределению $p(ξ)$. Допустим, что мы произвели $M$ независимых замеров этой случайной величины $ξ_1,…,ξ+M$. Чему равна вероятность наблюдения именно этой выборки?\n",
        "\n",
        "Произведение по всем $i$ обозначайте как `prod_i`, $ξ_i$ обозначайте как `x_i`."
      ],
      "metadata": {
        "id": "h9edufOIAe_R"
      }
    },
    {
      "cell_type": "code",
      "execution_count": null,
      "metadata": {
        "id": "UZpIj0USAYEs"
      },
      "outputs": [],
      "source": [
        "# prod_i(p(x_i))"
      ]
    }
  ]
}