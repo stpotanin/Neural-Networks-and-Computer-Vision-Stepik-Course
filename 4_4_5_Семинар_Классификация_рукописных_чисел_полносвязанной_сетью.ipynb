{
  "nbformat": 4,
  "nbformat_minor": 0,
  "metadata": {
    "colab": {
      "provenance": [],
      "authorship_tag": "ABX9TyPV9Clz3CiTZoNt8XOsI+xl"
    },
    "kernelspec": {
      "name": "python3",
      "display_name": "Python 3"
    },
    "language_info": {
      "name": "python"
    }
  },
  "cells": [
    {
      "cell_type": "markdown",
      "source": [
        "https://stepik.org/lesson/211876/step/5"
      ],
      "metadata": {
        "id": "riCVTOz35jVX"
      }
    },
    {
      "cell_type": "code",
      "execution_count": null,
      "metadata": {
        "colab": {
          "base_uri": "https://localhost:8080/"
        },
        "id": "YtICmlYA5Thb",
        "outputId": "9cbd23f1-90ca-49d7-9d8f-8def432f773d"
      },
      "outputs": [
        {
          "output_type": "execute_result",
          "data": {
            "text/plain": [
              "torch.Size([6000, 28, 28])"
            ]
          },
          "metadata": {},
          "execution_count": 4
        }
      ],
      "source": [
        "import torch\n",
        "\n",
        "x = torch.arange(6000 * 28 * 28).reshape(6000, 28, 28)\n",
        "x.shape"
      ]
    },
    {
      "cell_type": "code",
      "source": [
        "x.reshape(-1,1,1).shape"
      ],
      "metadata": {
        "colab": {
          "base_uri": "https://localhost:8080/"
        },
        "id": "EjSk72Cz5sTE",
        "outputId": "c842e899-4281-45bd-899c-6c6ae38ba361"
      },
      "execution_count": null,
      "outputs": [
        {
          "output_type": "execute_result",
          "data": {
            "text/plain": [
              "torch.Size([4704000, 1, 1])"
            ]
          },
          "metadata": {},
          "execution_count": 5
        }
      ]
    },
    {
      "cell_type": "code",
      "source": [
        "x.reshape(-1,6000).shape"
      ],
      "metadata": {
        "colab": {
          "base_uri": "https://localhost:8080/"
        },
        "id": "Dw_eepAg6ChV",
        "outputId": "a171ec87-b973-4e62-e087-e3afc2ce295d"
      },
      "execution_count": null,
      "outputs": [
        {
          "output_type": "execute_result",
          "data": {
            "text/plain": [
              "torch.Size([784, 6000])"
            ]
          },
          "metadata": {},
          "execution_count": 6
        }
      ]
    },
    {
      "cell_type": "code",
      "source": [
        "x.reshape(len(x[1]), len(x), len(x[2])).shape"
      ],
      "metadata": {
        "colab": {
          "base_uri": "https://localhost:8080/"
        },
        "id": "JpddktMc6Cu6",
        "outputId": "5562e6ce-c107-4070-a447-ca3de35d0d29"
      },
      "execution_count": null,
      "outputs": [
        {
          "output_type": "execute_result",
          "data": {
            "text/plain": [
              "torch.Size([28, 6000, 28])"
            ]
          },
          "metadata": {},
          "execution_count": 7
        }
      ]
    },
    {
      "cell_type": "code",
      "source": [
        "x.reshape(-1).shape"
      ],
      "metadata": {
        "colab": {
          "base_uri": "https://localhost:8080/"
        },
        "id": "kk7MxWZf6C6q",
        "outputId": "92ab47d1-0cb6-4474-aff6-7b3be2d39289"
      },
      "execution_count": null,
      "outputs": [
        {
          "output_type": "execute_result",
          "data": {
            "text/plain": [
              "torch.Size([4704000])"
            ]
          },
          "metadata": {},
          "execution_count": 8
        }
      ]
    },
    {
      "cell_type": "code",
      "source": [
        "x.reshape(-1,14,32,7).shape"
      ],
      "metadata": {
        "colab": {
          "base_uri": "https://localhost:8080/"
        },
        "id": "rijITOVB6DGF",
        "outputId": "2a91adec-fd46-4936-9960-c7740369fb5e"
      },
      "execution_count": null,
      "outputs": [
        {
          "output_type": "execute_result",
          "data": {
            "text/plain": [
              "torch.Size([1500, 14, 32, 7])"
            ]
          },
          "metadata": {},
          "execution_count": 9
        }
      ]
    },
    {
      "cell_type": "code",
      "source": [
        "# x.reshape(-1,9).shape\n",
        "# shape '[-1, 9]' is invalid for input of size 4704000"
      ],
      "metadata": {
        "id": "M3aJEsn56DQx"
      },
      "execution_count": null,
      "outputs": []
    }
  ]
}