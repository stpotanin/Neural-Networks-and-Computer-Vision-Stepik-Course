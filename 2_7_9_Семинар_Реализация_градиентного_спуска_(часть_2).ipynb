{
  "nbformat": 4,
  "nbformat_minor": 0,
  "metadata": {
    "colab": {
      "provenance": [],
      "authorship_tag": "ABX9TyPCZCgrqHif3aWrxYruMHMr"
    },
    "kernelspec": {
      "name": "python3",
      "display_name": "Python 3"
    },
    "language_info": {
      "name": "python"
    }
  },
  "cells": [
    {
      "cell_type": "markdown",
      "source": [
        "# [Задача 2.7.9](https://stepik.org/lesson/236466/step/9)\n",
        "\n",
        "Перепишите пример, используя torch.optim.SGD\n",
        "\n",
        "Изменился ли ответ?"
      ],
      "metadata": {
        "id": "LSZ6iyBvp-fa"
      }
    },
    {
      "cell_type": "code",
      "source": [
        "import torch\n",
        "\n",
        "w = torch.tensor([[5., 10.], [1., 2.]], requires_grad=True)\n",
        "alpha = 0.001\n",
        "optimizer = torch.optim.SGD([w], lr=0.001)\n",
        "\n",
        "for _ in range(500):\n",
        "    # it's critical to calculate function inside the loop:\n",
        "    function = (w + 7).log().log().prod()\n",
        "    function.backward()\n",
        "    optimizer.step()\n",
        "    optimizer.zero_grad()\n",
        "\n",
        "print(w) # Код для самопроверки"
      ],
      "metadata": {
        "colab": {
          "base_uri": "https://localhost:8080/"
        },
        "id": "RcZHQKY3qJe4",
        "outputId": "7b27772a-1f1b-411b-e17e-4cc1c362d10d"
      },
      "execution_count": null,
      "outputs": [
        {
          "output_type": "stream",
          "name": "stdout",
          "text": [
            "tensor([[4.9900, 9.9948],\n",
            "        [0.9775, 1.9825]], requires_grad=True)\n"
          ]
        }
      ]
    }
  ]
}