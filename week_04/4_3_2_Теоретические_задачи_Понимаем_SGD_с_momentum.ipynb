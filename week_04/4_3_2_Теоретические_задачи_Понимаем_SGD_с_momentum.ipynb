{
  "nbformat": 4,
  "nbformat_minor": 0,
  "metadata": {
    "colab": {
      "provenance": [],
      "authorship_tag": "ABX9TyMO1VgH0tIHfPg2mGlBtpwC"
    },
    "kernelspec": {
      "name": "python3",
      "display_name": "Python 3"
    },
    "language_info": {
      "name": "python"
    }
  },
  "cells": [
    {
      "cell_type": "markdown",
      "source": [
        "https://stepik.org/lesson/227718/step/2"
      ],
      "metadata": {
        "id": "hggvKwj9bW2Q"
      }
    },
    {
      "cell_type": "code",
      "execution_count": null,
      "metadata": {
        "id": "4DznQoU4bSgT"
      },
      "outputs": [],
      "source": [
        "# (-grad(L) - eta*v) / m"
      ]
    },
    {
      "cell_type": "markdown",
      "source": [
        "# Решение\n",
        "Сумму действующих сил делим на массу тела.\n",
        "\n",
        "Можно визуализироавть задачу, как шарик, подброшенный вверх в воде. Найти его ускорение с учётом гравитации и трения в жидкости (считаем, что положительное направление - вверх).\n",
        "\n",
        "Сила трения в этом случае от массы не зависит, только от скорости. Вторая сила - почти постоянная. От расстояния между центрами масс (системы шарик-Земля) всё-таки зависит. Поэтому под формулировку $L(x)$ подходит."
      ],
      "metadata": {
        "id": "fT0SjnlkbbKR"
      }
    }
  ]
}
