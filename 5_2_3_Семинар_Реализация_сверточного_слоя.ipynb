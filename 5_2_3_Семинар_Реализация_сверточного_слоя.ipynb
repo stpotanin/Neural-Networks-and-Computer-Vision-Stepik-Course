{
  "nbformat": 4,
  "nbformat_minor": 0,
  "metadata": {
    "colab": {
      "provenance": []
    },
    "kernelspec": {
      "name": "python3",
      "display_name": "Python 3"
    },
    "language_info": {
      "name": "python"
    }
  },
  "cells": [
    {
      "cell_type": "markdown",
      "source": [
        "https://stepik.org/lesson/309343/step/3"
      ],
      "metadata": {
        "id": "Wgv4tkt5YhPT"
      }
    },
    {
      "cell_type": "code",
      "source": [
        "import numpy as np\n",
        "\n",
        "out_len = lambda length, kern, padding, stride:(length - kern + 2 * padding) // stride + 1\n",
        "\n",
        "def calc_out_shape(input_matrix_shape, out_channels, kernel_size, stride, padding):\n",
        "    out_shape = [input_matrix_shape[0],\n",
        "                 out_channels,\n",
        "                 out_len(input_matrix_shape[2], kernel_size, padding, stride),\n",
        "                 out_len(input_matrix_shape[3], kernel_size, padding, stride)\n",
        "                 ]\n",
        "\n",
        "    return out_shape\n",
        "\n",
        "print(np.array_equal(\n",
        "    calc_out_shape(input_matrix_shape=[2, 3, 10, 10],\n",
        "                   out_channels=10,\n",
        "                   kernel_size=3,\n",
        "                   stride=1,\n",
        "                   padding=0),\n",
        "    [2, 10, 8, 8]))"
      ],
      "metadata": {
        "colab": {
          "base_uri": "https://localhost:8080/"
        },
        "id": "NxhY5DITr-nK",
        "outputId": "daa6b416-a18d-4989-d8bc-3fee23714c84"
      },
      "execution_count": null,
      "outputs": [
        {
          "output_type": "execute_result",
          "data": {
            "text/plain": [
              "4"
            ]
          },
          "metadata": {},
          "execution_count": 13
        }
      ]
    }
  ]
}