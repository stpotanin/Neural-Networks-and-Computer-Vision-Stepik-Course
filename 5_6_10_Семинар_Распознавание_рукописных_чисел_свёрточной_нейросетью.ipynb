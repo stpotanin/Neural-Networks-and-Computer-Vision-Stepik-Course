{
  "nbformat": 4,
  "nbformat_minor": 0,
  "metadata": {
    "colab": {
      "provenance": []
    },
    "kernelspec": {
      "name": "python3",
      "display_name": "Python 3"
    },
    "language_info": {
      "name": "python"
    }
  },
  "cells": [
    {
      "cell_type": "markdown",
      "source": [
        "https://stepik.org/lesson/209091/step/10"
      ],
      "metadata": {
        "id": "Wgv4tkt5YhPT"
      }
    },
    {
      "cell_type": "code",
      "source": [
        "import torch\n",
        "\n",
        "N = 4\n",
        "C = 3\n",
        "C_out = 10\n",
        "H = 8\n",
        "W = 16\n",
        "\n",
        "x = torch.ones((N, C, H, W)) # torch.Size([4, 10, 8, 16])\n",
        "\n",
        "out1 = torch.nn.Conv2d(C, C_out, kernel_size=(3, 3), padding=1)(x)\n",
        "print(out1.shape) # для самопроверки\n",
        "print(out1.shape == torch.Size([4, 10, 8, 16])) # для самопроверки\n",
        "\n",
        "# torch.Size([4, 10, 8, 16])\n",
        "out2 = torch.nn.Conv2d(C, C_out, kernel_size=(5, 5), padding=2)(x)\n",
        "print(out2.shape) # для самопроверки\n",
        "print(out2.shape == torch.Size([4, 10, 8, 16])) # для самопроверки\n",
        "\n",
        "# torch.Size([4, 10, 8, 16])\n",
        "out3 = torch.nn.Conv2d(C, C_out, kernel_size=(7, 7), padding=3)(x)\n",
        "print(out3.shape) # для самопроверки\n",
        "print(out3.shape == torch.Size([4, 10, 8, 16])) # для самопроверки\n",
        "\n",
        "# torch.Size([4, 10, 8, 16])\n",
        "out4 = torch.nn.Conv2d(C, C_out, kernel_size=(9, 9), padding=4)(x)\n",
        "print(out4.shape) # для самопроверки\n",
        "print(out4.shape == torch.Size([4, 10, 8, 16])) # для самопроверки\n",
        "\n",
        "# torch.Size([4, 10, 8, 16])\n",
        "out5 = torch.nn.Conv2d(C, C_out, kernel_size=(3, 5), padding=(1, 2))(x)\n",
        "print(out5.shape) # для самопроверки\n",
        "print(out5.shape == torch.Size([4, 10, 8, 16])) # для самопроверки\n",
        "\n",
        "# torch.Size([4, 10, 22, 30])\n",
        "out6 = torch.nn.Conv2d(C, C_out, kernel_size=(3, 3), padding=8)(x)\n",
        "print(out6.shape) # для самопроверки\n",
        "print(out6.shape == torch.Size([4, 10, 22, 30])) # для самопроверки\n",
        "\n",
        "# torch.Size([4, 10, 7, 15])\n",
        "out7 = torch.nn.Conv2d(C, C_out, kernel_size=(4, 4), padding=1)(x)\n",
        "print(out7.shape) # для самопроверки\n",
        "print(out7.shape == torch.Size([4, 10, 7, 15])) # для самопроверки\n",
        "\n",
        "# torch.Size([4, 10, 9, 17])\n",
        "out8 = torch.nn.Conv2d(C, C_out, kernel_size=(2, 2), padding=1)(x)\n",
        "print(out8.shape) # для самопроверки\n",
        "print(out8.shape == torch.Size([4, 10, 9, 17])) # для самопроверки\n",
        "\n",
        "# torch.Size([4, 10, 8, 16])\n",
        "# torch.Size([4, 10, 8, 16])\n",
        "# torch.Size([4, 10, 8, 16])\n",
        "# torch.Size([4, 10, 8, 16])\n",
        "# torch.Size([4, 10, 8, 16])\n",
        "# torch.Size([4, 10, 22, 30])\n",
        "# torch.Size([4, 10, 7, 15])\n",
        "# torch.Size([4, 10, 9, 17])"
      ],
      "metadata": {
        "colab": {
          "base_uri": "https://localhost:8080/"
        },
        "id": "Fdi9zPQXBtIX",
        "outputId": "dd6a4aa1-1a97-4169-de5f-aaf8b8f8cb14"
      },
      "execution_count": null,
      "outputs": [
        {
          "output_type": "stream",
          "name": "stdout",
          "text": [
            "torch.Size([4, 10, 8, 16])\n",
            "True\n",
            "torch.Size([4, 10, 8, 16])\n",
            "True\n",
            "torch.Size([4, 10, 8, 16])\n",
            "True\n",
            "torch.Size([4, 10, 8, 16])\n",
            "True\n",
            "torch.Size([4, 10, 8, 16])\n",
            "True\n",
            "torch.Size([4, 10, 22, 30])\n",
            "True\n",
            "torch.Size([4, 10, 7, 15])\n",
            "True\n",
            "torch.Size([4, 10, 9, 17])\n",
            "True\n"
          ]
        }
      ]
    }
  ]
}