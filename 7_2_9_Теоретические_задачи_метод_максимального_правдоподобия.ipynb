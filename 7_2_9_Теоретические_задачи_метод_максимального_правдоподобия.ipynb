{
  "nbformat": 4,
  "nbformat_minor": 0,
  "metadata": {
    "colab": {
      "provenance": [],
      "authorship_tag": "ABX9TyOXd+gtG7pJ7j5l5aOBaqUF"
    },
    "kernelspec": {
      "name": "python3",
      "display_name": "Python 3"
    },
    "language_info": {
      "name": "python"
    }
  },
  "cells": [
    {
      "cell_type": "markdown",
      "source": [
        "https://stepik.org/lesson/241452/step/9\n",
        "\n",
        "[Суть метода максимального правдоподобия](https://youtu.be/2iRIqkm1mug?si=nBxGIIoSK-hQt9Ei) и [Метод максимального правдоподобия в непрерывном случае](https://www.youtube.com/watch?v=9CeB32vxM0A) от Бориса Борисовича\n",
        "\n",
        "# Условие\n",
        "\n",
        "Для [предыдущей задачи](https://stepik.org/lesson/241452/step/7) найдите значение $σ$, при котором достигается максимальное правдоподобие.\n",
        "\n",
        "Квадратный корень обозначайте как `sqrt`, суммирование по всем $i$ - как `sum_i`, $μ$ обозначайте как `m`.\n",
        "\n",
        "$$\n",
        "\\frac{1}{\\sqrt{2π}\\sigma}exp(-\\frac{(x-μ)^2}{2\\sigma^2})\n",
        "$$\n",
        "\n",
        "$$\n",
        "-\\log L = N \\cdot \\log \\sigma + \\sum_{i=1}^{N} \\frac{(x_i - \\mu)^2}{2\\sigma^2}\n",
        "$$"
      ],
      "metadata": {
        "id": "h9edufOIAe_R"
      }
    },
    {
      "cell_type": "code",
      "source": [
        "# Приравнивание производной по σ к нулю:\n",
        "# ∂(-logL)/∂σ = N/σ - (1/σ³) Σ(xi - μ)² = 0\n",
        "\n",
        "# Умножаем обе части на σ³:\n",
        "# Nσ² - Σ(xi - μ)² = 0\n",
        "\n",
        "# Решаем относительно σ²:\n",
        "# Nσ² = Σ(xi - μ)²\n",
        "# σ² = (Σ(xi - μ)²) / N\n",
        "\n",
        "# Вывод: Оценка максимального правдоподобия для σ² равна дисперсии выборки\n",
        "# (сумме квадратов отклонений от среднего, деленной на число наблюдений)."
      ],
      "metadata": {
        "id": "juW0SLkmfJAV"
      },
      "execution_count": null,
      "outputs": []
    },
    {
      "cell_type": "code",
      "source": [
        "# Ответ:\n",
        "# σ² (дисперсия): σ² = (Σ(xi - μ)²) / N\n",
        "\n",
        "# sqrt(sum_i((x_i-m)^2)/N)"
      ],
      "metadata": {
        "id": "UHvIhDq_ftuf"
      },
      "execution_count": null,
      "outputs": []
    },
    {
      "cell_type": "markdown",
      "source": [
        "# Решение\n",
        "\n",
        "**Исходное выражение:**\n",
        "\n",
        "$$\n",
        "-\\log L = N \\cdot \\log \\sigma + \\sum_{i=1}^{N} \\frac{(x_i - \\mu)^2}{2\\sigma^2}\n",
        "$$\n",
        "\n",
        "* **Производная по $\\sigma$:**\n",
        "$$\n",
        "\\frac{\\partial (-\\log L)}{\\partial \\sigma} = \\frac{N}{\\sigma} - \\frac{1}{\\sigma^3} \\sum_{i=1}^{N} (x_i - \\mu)^2\n",
        "$$\n",
        "\n",
        "**Приравнивание производной  по $\\sigma$ к нулю для поиска максимума:**\n",
        "\n",
        "$$\n",
        "\\frac{\\partial (-\\log L)}{\\partial \\sigma} = \\frac{N}{\\sigma} - \\frac{1}{\\sigma^3} \\sum_{i=1}^{N} (x_i - \\mu)^2 = 0\n",
        "$$\n",
        "\n",
        "$$\n",
        "N\\sigma^2 - \\sum_{i=1}^{N} (x_i - \\mu)^2 = 0\n",
        "$$\n",
        "\n",
        "$$\n",
        "\\sigma^2 = \\frac{1}{N} \\sum_{i=1}^{N} (x_i - \\mu)^2\n",
        "$$\n",
        "\n",
        "**Оценка максимального правдоподобия для $\\sigma^2$:**\n",
        "\n",
        "$$\n",
        "\\hat{\\sigma}^2 = \\frac{1}{N} \\sum_{i=1}^{N} (x_i - \\hat{\\mu})^2\n",
        "$$\n",
        "\n",
        "\n",
        "**Вывод:**\n",
        "\n",
        "Оценка максимального правдоподобия для параметра $\\sigma^2$ равна:\n",
        "\n",
        "* **$\\sigma^2$:** $\\hat{\\sigma}^2 = \\frac{1}{N} \\sum_{i=1}^{N} (x_i - \\hat{\\mu})^2$ (выборочная дисперсия)\n"
      ],
      "metadata": {
        "id": "n7sLZXO27yLN"
      }
    }
  ]
}