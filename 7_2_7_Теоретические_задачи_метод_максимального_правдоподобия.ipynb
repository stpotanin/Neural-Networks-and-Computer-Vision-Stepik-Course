{
  "nbformat": 4,
  "nbformat_minor": 0,
  "metadata": {
    "colab": {
      "provenance": [],
      "authorship_tag": "ABX9TyOKSxJoq/OlQjWHdGJ4r78o"
    },
    "kernelspec": {
      "name": "python3",
      "display_name": "Python 3"
    },
    "language_info": {
      "name": "python"
    }
  },
  "cells": [
    {
      "cell_type": "markdown",
      "source": [
        "https://stepik.org/lesson/241452/step/7\n",
        "\n",
        "[Суть метода максимального правдоподобия](https://youtu.be/2iRIqkm1mug?si=nBxGIIoSK-hQt9Ei) и [Метод максимального правдоподобия в непрерывном случае](https://www.youtube.com/watch?v=9CeB32vxM0A) от Бориса Борисовича\n",
        "\n",
        "# Условие\n",
        "\n",
        "Вернемся к нормальному распределению. Пусть мы наблюдали некоторые значения $x_1,…,x_N$, и мы знаем, что эти значения были порождены нормальным распределением:\n",
        "\n",
        "$$\n",
        "\\frac{1}{\\sqrt{2π}\\sigma}exp(-\\frac{(x-μ)^2}{2\\sigma^2})\n",
        "$$\n",
        "\n",
        "\n",
        "\n",
        "Найдите отрицательное логарифмическое правдоподобие для параметров $μ$ и $σ$. Отбросьте все члены, в которые не входят $μ$ или $σ$.\n",
        "\n",
        "Логарифм обозначайте как `log`, суммирование по всем индексам обозначайте как `sum_i`, $σ$ обозначайте как `s`, $μ$ обозначайте как `m`.\n",
        "\n",
        "В полученном ответе не раскрывайте знак суммы и не выносите общих множителей за знак суммы."
      ],
      "metadata": {
        "id": "h9edufOIAe_R"
      }
    },
    {
      "cell_type": "code",
      "execution_count": null,
      "metadata": {
        "id": "UZpIj0USAYEs"
      },
      "outputs": [],
      "source": [
        "# N*log(s)+sum_i((x_i-m)^2/(2*s^2))"
      ]
    },
    {
      "cell_type": "markdown",
      "source": [
        "# Решение\n",
        "\n",
        "Нормальное распределение (N наблюдений):\n",
        "$$\n",
        "L(m_1, ..., m_k; λ) = \\prod_{i=1}^{N} \\frac{1}{\\sqrt{2π}\\sigma}exp(-\\frac{(m_i-μ)^2}{2\\sigma^2})\n",
        "$$\n",
        "\n",
        "Найдём логарифм этой функции правдоподобия:\n",
        "\n",
        "$$\n",
        "\\log L = \\sum_{i=1}^{N} \\left( \\log \\frac{1}{\\sqrt{2\\pi} s} + \\log \\exp\\left(-\\frac{(x_i - m)^2}{2s^2}\\right) \\right)\n",
        "$$\n",
        "\n",
        "Так как $ \\log \\exp(x) = x $, то получаем:\n",
        "\n",
        "$$\n",
        "\\log L = \\sum_{i=1}^{N} \\left( \\log \\frac{1}{\\sqrt{2\\pi} s} - \\frac{(x_i - m)^2}{2s^2} \\right)\n",
        "$$\n",
        "\n",
        "Теперь разобьём это на два члена:\n",
        "\n",
        "1. $ \\log \\frac{1}{\\sqrt{2\\pi} s} = -\\log s - \\frac{1}{2} \\log(2\\pi) $\n",
        "2. $ -\\frac{(x_i - m)^2}{2s^2} $\n",
        "\n",
        "Отрицательное логарифмическое правдоподобие (умножим логарифм на $-1$):\n",
        "\n",
        "$$\n",
        "-\\log L = \\sum_{i=1}^{N} \\left( \\log s + \\frac{(x_i - m)^2}{2s^2} \\right) + \\frac{N}{2} \\log(2\\pi)\n",
        "$$\n",
        "\n",
        "Убираем члены, не зависящие от $ m $ и $ s $\n",
        "\n",
        "Отбрасываем член $ \\frac{N}{2} \\log(2\\pi) $, поскольку он не зависит от $ m $ и $ s $. Итоговое выражение:\n",
        "\n",
        "$$\n",
        "-\\log L = N \\log s + \\sum_{i=1}^{N} \\frac{(x_i - m)^2}{2s^2}\n",
        "$$"
      ],
      "metadata": {
        "id": "n7sLZXO27yLN"
      }
    }
  ]
}