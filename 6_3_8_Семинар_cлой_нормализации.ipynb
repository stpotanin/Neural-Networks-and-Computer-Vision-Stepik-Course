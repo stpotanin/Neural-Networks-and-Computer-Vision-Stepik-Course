{
  "nbformat": 4,
  "nbformat_minor": 0,
  "metadata": {
    "colab": {
      "provenance": [],
      "authorship_tag": "ABX9TyMrHAENntI3AAqGgNZPYV6o"
    },
    "kernelspec": {
      "name": "python3",
      "display_name": "Python 3"
    },
    "language_info": {
      "name": "python"
    }
  },
  "cells": [
    {
      "cell_type": "markdown",
      "source": [
        "https://stepik.org/lesson/303592/step/8"
      ],
      "metadata": {
        "id": "0GxCb9xCSl1L"
      }
    },
    {
      "cell_type": "code",
      "source": [
        "import torch\n",
        "import torch.nn as nn\n",
        "\n",
        "eps = 1e-3\n",
        "\n",
        "batch_size = 5\n",
        "input_channels = 2\n",
        "input_length = 30\n",
        "\n",
        "instance_norm = nn.InstanceNorm1d(input_channels, affine=False, eps=eps)\n",
        "\n",
        "input_tensor = torch.randn(batch_size, input_channels, input_length, dtype=torch.float)\n",
        "\n",
        "\n",
        "def custom_instance_norm1d(input_tensor, eps):\n",
        "    # Напишите в этом месте нормирование тензора.\n",
        "    mean = input_tensor.mean(dim=-1, keepdim=True)\n",
        "    var = input_tensor.var(dim=-1, keepdim=True, unbiased=False)\n",
        "    normed_tensor = (input_tensor - mean) / torch.sqrt(var + eps)\n",
        "    return normed_tensor\n",
        "\n",
        "\n",
        "# Проверка происходит автоматически вызовом следующего кода\n",
        "# (раскомментируйте для самостоятельной проверки,\n",
        "#  в коде для сдачи задания должно быть закомментировано):\n",
        "norm_output = instance_norm(input_tensor)\n",
        "custom_output = custom_instance_norm1d(input_tensor, eps)\n",
        "print(torch.allclose(norm_output, custom_output, atol=1e-06) and norm_output.shape == custom_output.shape)"
      ],
      "metadata": {
        "colab": {
          "base_uri": "https://localhost:8080/"
        },
        "id": "sUDeP5YBDtq0",
        "outputId": "6dd9918f-08f6-4bc5-fcb3-c08e00a20ade"
      },
      "execution_count": null,
      "outputs": [
        {
          "output_type": "stream",
          "name": "stdout",
          "text": [
            "True\n"
          ]
        }
      ]
    }
  ]
}