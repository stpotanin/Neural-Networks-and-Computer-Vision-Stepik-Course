{
  "nbformat": 4,
  "nbformat_minor": 0,
  "metadata": {
    "colab": {
      "provenance": [],
      "gpuType": "V28"
    },
    "kernelspec": {
      "name": "python3",
      "display_name": "Python 3"
    },
    "language_info": {
      "name": "python"
    },
    "accelerator": "TPU"
  },
  "cells": [
    {
      "cell_type": "markdown",
      "source": [
        "https://stepik.org/lesson/240833/step/6"
      ],
      "metadata": {
        "id": "Wgv4tkt5YhPT"
      }
    },
    {
      "cell_type": "markdown",
      "source": [
        "**По цепному правилу:**\n",
        "\n",
        "Производная сложной функции вычисляется как произведение производных по каждой переменной. В нашем случае:\n",
        "\n",
        "∂L/∂x₀ = (∂L/∂xₙ) * (∂xₙ/∂xₙ₋₁) * (∂xₙ₋₁/∂xₙ₋₂) * ... * (∂x₁/∂x₀)\n",
        "\n",
        "**Заменим производные:**\n",
        "\n",
        "* ∂L/∂xₙ = d(L) - это дано по условию.\n",
        "* ∂xᵢ/∂xᵢ₋₁ = d(fᵢ) - это также дано по условию.\n",
        "\n",
        "**Получаем:**\n",
        "\n",
        "∂L/∂x₀ = d(L) * d(fₙ) * d(fₙ₋₁) * ... * d(f₁)\n",
        "\n",
        "**В компактной записи:**\n",
        "\n",
        "∂L/∂x₀ = d(L) * prodᵢ(d(fᵢ))\n",
        "\n",
        "**Таким образом, производная ∂L/∂x₀ равна произведению производной L по выходу последнего блока на произведение производных всех блоков.**\n",
        "\n",
        "\n",
        "\n"
      ],
      "metadata": {
        "id": "F52lvXokzr6O"
      }
    }
  ]
}
