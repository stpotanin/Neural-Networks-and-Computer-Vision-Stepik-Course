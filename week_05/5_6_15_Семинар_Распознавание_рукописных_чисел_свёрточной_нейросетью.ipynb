{
  "nbformat": 4,
  "nbformat_minor": 0,
  "metadata": {
    "colab": {
      "provenance": [],
      "gpuType": "V28"
    },
    "kernelspec": {
      "name": "python3",
      "display_name": "Python 3"
    },
    "language_info": {
      "name": "python"
    },
    "accelerator": "TPU"
  },
  "cells": [
    {
      "cell_type": "markdown",
      "source": [
        "https://stepik.org/lesson/209091/step/10"
      ],
      "metadata": {
        "id": "Wgv4tkt5YhPT"
      }
    },
    {
      "cell_type": "code",
      "source": [
        "import torch\n",
        "import random\n",
        "import numpy as np\n",
        "\n",
        "# Устанавливаем начальные значения для генераторов случайных чисел для воспроизводимости результатов\n",
        "random.seed(0)\n",
        "np.random.seed(0)\n",
        "torch.manual_seed(0)\n",
        "torch.cuda.manual_seed(0)\n",
        "torch.backends.cudnn.deterministic = True"
      ],
      "metadata": {
        "id": "Fdi9zPQXBtIX"
      },
      "execution_count": null,
      "outputs": []
    },
    {
      "cell_type": "code",
      "source": [
        "import torchvision.datasets"
      ],
      "metadata": {
        "id": "aLTvywIKc4jD"
      },
      "execution_count": null,
      "outputs": []
    },
    {
      "cell_type": "code",
      "source": [
        "# Загружаем данные MNIST для обучения и тестирования\n",
        "MNIST_train = torchvision.datasets.MNIST('./', download=True, train=True)\n",
        "MNIST_test = torchvision.datasets.MNIST('./', download=True, train=False)"
      ],
      "metadata": {
        "id": "rCH9SD_gc9Ni"
      },
      "execution_count": null,
      "outputs": []
    },
    {
      "cell_type": "code",
      "source": [
        "# Доступ к данным и меткам\n",
        "X_train = MNIST_train.train_data  # Изображения для обучения\n",
        "y_train = MNIST_train.train_labels  # Метки для обучения\n",
        "X_test = MNIST_test.test_data  # Изображения для тестирования\n",
        "y_test = MNIST_test.test_labels  # Метки для тестирования"
      ],
      "metadata": {
        "id": "ucHGcaoVc_1w"
      },
      "execution_count": null,
      "outputs": []
    },
    {
      "cell_type": "code",
      "source": [
        "len(y_train), len(y_test)  # Проверка количества элементов в обучающей и тестовой выборках"
      ],
      "metadata": {
        "id": "nCqzdGk8dCkF",
        "colab": {
          "base_uri": "https://localhost:8080/"
        },
        "outputId": "d3aa2cdf-f4e9-4463-f0e9-3fc6626c65a9"
      },
      "execution_count": null,
      "outputs": [
        {
          "output_type": "execute_result",
          "data": {
            "text/plain": [
              "(60000, 10000)"
            ]
          },
          "metadata": {},
          "execution_count": 45
        }
      ]
    },
    {
      "cell_type": "code",
      "source": [
        "import matplotlib.pyplot as plt\n",
        "# Визуализируем первое изображение из обучающей выборки\n",
        "plt.imshow(X_train[0, :, :])\n",
        "plt.show()\n",
        "print(y_train[0])  # Выводим соответствующую метку"
      ],
      "metadata": {
        "id": "c6bJlvdadGr_",
        "colab": {
          "base_uri": "https://localhost:8080/",
          "height": 447
        },
        "outputId": "9b312064-d1e8-45e4-ab3b-0eac9577b08a"
      },
      "execution_count": null,
      "outputs": [
        {
          "output_type": "display_data",
          "data": {
            "text/plain": [
              "<Figure size 640x480 with 1 Axes>"
            ],
            "image/png": "[encoded data removed]"
          },
          "metadata": {}
        },
        {
          "output_type": "stream",
          "name": "stdout",
          "text": [
            "tensor(5)\n"
          ]
        }
      ]
    },
    {
      "cell_type": "code",
      "source": [
        "# Преобразуем данные в нужный формат для подачи в нейронную сеть (добавляем канал)\n",
        "X_train = X_train.unsqueeze(1).float()\n",
        "X_test = X_test.unsqueeze(1).float()"
      ],
      "metadata": {
        "id": "YFsl_wi8dJIq"
      },
      "execution_count": null,
      "outputs": []
    },
    {
      "cell_type": "code",
      "source": [
        "X_train.shape  # Проверяем форму данных после преобразования"
      ],
      "metadata": {
        "id": "xf6Xb2g0dMYy",
        "colab": {
          "base_uri": "https://localhost:8080/"
        },
        "outputId": "1b76e0be-00b2-416b-a7a5-ff468ba18feb"
      },
      "execution_count": null,
      "outputs": [
        {
          "output_type": "execute_result",
          "data": {
            "text/plain": [
              "torch.Size([60000, 1, 28, 28])"
            ]
          },
          "metadata": {},
          "execution_count": 48
        }
      ]
    },
    {
      "cell_type": "code",
      "source": [
        "# Определяем архитектуру LeNet-5\n",
        "class LeNet5(torch.nn.Module):\n",
        "    def __init__(self):\n",
        "        super(LeNet5, self).__init__()\n",
        "\n",
        "        # Первый сверточный слой: 1 канал входа, 6 каналов выхода, ядро 5x5, паддинг 2\n",
        "        self.conv1 = torch.nn.Conv2d(in_channels=1, out_channels=6, kernel_size=5, padding=2)\n",
        "        self.act1  = torch.nn.Tanh()  # Активационная функция Tanh\n",
        "        self.pool1 = torch.nn.AvgPool2d(kernel_size=2, stride=2)  # Слой подвыборки (пулинг)\n",
        "\n",
        "        # Второй сверточный слой: 6 каналов входа, 16 каналов выхода, ядро 5x5\n",
        "        self.conv2 = torch.nn.Conv2d(in_channels=6, out_channels=16, kernel_size=5, padding=0)\n",
        "        self.act2  = torch.nn.Tanh()\n",
        "        self.pool2 = torch.nn.AvgPool2d(kernel_size=2, stride=2)\n",
        "\n",
        "        # Полносвязный слой с 120 нейронами\n",
        "        self.fc1   = torch.nn.Linear(5 * 5 * 16, 120)\n",
        "        self.act3  = torch.nn.Tanh()\n",
        "\n",
        "        # Полносвязный слой с 84 нейронами\n",
        "        self.fc2   = torch.nn.Linear(120, 84)\n",
        "        self.act4  = torch.nn.Tanh()\n",
        "\n",
        "        # Выходной слой на 10 классов (цифры 0-9)\n",
        "        self.fc3   = torch.nn.Linear(84, 10)\n",
        "\n",
        "    def forward(self, x):\n",
        "        # Прямое распространение данных через сеть\n",
        "        x = self.conv1(x)  # Первый сверточный слой\n",
        "        x = self.act1(x)  # Активация\n",
        "        x = self.pool1(x)  # Пулинг\n",
        "\n",
        "        x = self.conv2(x)  # Второй сверточный слой\n",
        "        x = self.act2(x)  # Активация\n",
        "        x = self.pool2(x)  # Пулинг\n",
        "\n",
        "        # Преобразование тензора в вектор перед подачей в полносвязные слои\n",
        "        x = x.view(x.size(0), x.size(1) * x.size(2) * x.size(3))\n",
        "\n",
        "        # Полносвязные слои\n",
        "        x = self.fc1(x)\n",
        "        x = self.act3(x)\n",
        "        x = self.fc2(x)\n",
        "        x = self.act4(x)\n",
        "        x = self.fc3(x)\n",
        "\n",
        "        return x\n",
        "\n",
        "# Создаем экземпляр модели LeNet5\n",
        "lenet5 = LeNet5()"
      ],
      "metadata": {
        "id": "wHcb5BwYdOri"
      },
      "execution_count": null,
      "outputs": []
    },
    {
      "cell_type": "code",
      "source": [
        "# Проверяем наличие GPU и переводим модель на устройство (CPU или GPU)\n",
        "device = torch.device('cuda:0' if torch.cuda.is_available() else 'cpu')\n",
        "lenet5 = lenet5.to(device)"
      ],
      "metadata": {
        "id": "GQmjV8m5dRlp"
      },
      "execution_count": null,
      "outputs": []
    },
    {
      "cell_type": "code",
      "source": [
        "# Определяем функцию потерь и оптимизатор\n",
        "loss = torch.nn.CrossEntropyLoss()  # Кросс-энтропия для многоклассовой классификации\n",
        "optimizer = torch.optim.Adam(lenet5.parameters(), lr=1.0e-3)  # Adam оптимизатор с малым шагом"
      ],
      "metadata": {
        "id": "iSJsO0CNdUIp"
      },
      "execution_count": null,
      "outputs": []
    },
    {
      "cell_type": "code",
      "source": [
        "batch_size = 256  # Размер мини-выборки\n",
        "\n",
        "# История точности и потерь на тестовой выборке\n",
        "test_accuracy_history = []\n",
        "test_loss_history = []\n",
        "\n",
        "# Переводим данные тестовой выборки на устройство\n",
        "X_test = X_test.to(device)\n",
        "y_test = y_test.to(device)\n",
        "\n",
        "# Обучение модели\n",
        "for epoch in range(100):\n",
        "    # Перемешиваем индексы обучающей выборки\n",
        "    order = np.random.permutation(len(X_train))\n",
        "\n",
        "    # Цикл по мини-выборкам\n",
        "    for start_index in range(0, len(X_train), batch_size):\n",
        "        optimizer.zero_grad()  # Обнуляем градиенты\n",
        "\n",
        "        # Получаем индексы для текущей мини-выборки\n",
        "        batch_indexes = order[start_index:start_index+batch_size]\n",
        "\n",
        "        # Загружаем мини-выборку на устройство\n",
        "        X_batch = X_train[batch_indexes].to(device)\n",
        "        y_batch = y_train[batch_indexes].to(device)\n",
        "\n",
        "        # Прямое распространение (предсказание)\n",
        "        preds = lenet5.forward(X_batch)\n",
        "\n",
        "        # Вычисляем значение функции потерь\n",
        "        loss_value = loss(preds, y_batch)\n",
        "        loss_value.backward()  # Обратное распространение ошибки\n",
        "\n",
        "        optimizer.step()  # Шаг оптимизации\n",
        "\n",
        "    # Тестирование модели на тестовой выборке\n",
        "    test_preds = lenet5.forward(X_test)\n",
        "    test_loss_history.append(loss(test_preds, y_test).data.cpu())  # Сохраняем потери\n",
        "    accuracy = (test_preds.argmax(dim=1) == y_test).float().mean().data.cpu()  # Вычисляем точность\n",
        "    test_accuracy_history.append(accuracy)  # Сохраняем точность\n",
        "\n",
        "    print(accuracy)  # Выводим точность на каждом шаге обучения\n",
        "\n",
        "# Код создает и обучает модель LeNet-5 для классификации рукописных цифр из датасета MNIST."
      ],
      "metadata": {
        "colab": {
          "base_uri": "https://localhost:8080/"
        },
        "id": "vszYBPB7dXLW",
        "outputId": "ec6c5b77-5412-4340-929b-bdb592ad7137"
      },
      "execution_count": null,
      "outputs": [
        {
          "output_type": "stream",
          "name": "stdout",
          "text": [
            "tensor(0.9681)\n",
            "tensor(0.9789)\n",
            "tensor(0.9819)\n",
            "tensor(0.9869)\n",
            "tensor(0.9856)\n",
            "tensor(0.9881)\n",
            "tensor(0.9872)\n",
            "tensor(0.9887)\n",
            "tensor(0.9892)\n",
            "tensor(0.9887)\n",
            "tensor(0.9900)\n",
            "tensor(0.9885)\n",
            "tensor(0.9895)\n",
            "tensor(0.9878)\n",
            "tensor(0.9900)\n",
            "tensor(0.9902)\n",
            "tensor(0.9899)\n",
            "tensor(0.9899)\n",
            "tensor(0.9902)\n",
            "tensor(0.9864)\n",
            "tensor(0.9887)\n",
            "tensor(0.9893)\n",
            "tensor(0.9895)\n",
            "tensor(0.9886)\n",
            "tensor(0.9876)\n",
            "tensor(0.9889)\n",
            "tensor(0.9904)\n",
            "tensor(0.9891)\n",
            "tensor(0.9880)\n",
            "tensor(0.9886)\n",
            "tensor(0.9877)\n",
            "tensor(0.9901)\n",
            "tensor(0.9891)\n",
            "tensor(0.9897)\n",
            "tensor(0.9892)\n",
            "tensor(0.9896)\n",
            "tensor(0.9906)\n",
            "tensor(0.9907)\n",
            "tensor(0.9868)\n",
            "tensor(0.9884)\n",
            "tensor(0.9902)\n",
            "tensor(0.9899)\n",
            "tensor(0.9904)\n",
            "tensor(0.9907)\n",
            "tensor(0.9906)\n",
            "tensor(0.9904)\n",
            "tensor(0.9906)\n",
            "tensor(0.9906)\n",
            "tensor(0.9908)\n",
            "tensor(0.9906)\n",
            "tensor(0.9905)\n",
            "tensor(0.9907)\n",
            "tensor(0.9908)\n",
            "tensor(0.9906)\n",
            "tensor(0.9908)\n",
            "tensor(0.9905)\n",
            "tensor(0.9909)\n",
            "tensor(0.9906)\n",
            "tensor(0.9908)\n",
            "tensor(0.9912)\n",
            "tensor(0.9910)\n",
            "tensor(0.9909)\n",
            "tensor(0.9910)\n",
            "tensor(0.9911)\n",
            "tensor(0.9908)\n",
            "tensor(0.9911)\n",
            "tensor(0.9909)\n",
            "tensor(0.9908)\n",
            "tensor(0.9907)\n",
            "tensor(0.9907)\n",
            "tensor(0.9909)\n",
            "tensor(0.9908)\n",
            "tensor(0.9907)\n",
            "tensor(0.9910)\n",
            "tensor(0.9908)\n",
            "tensor(0.9908)\n",
            "tensor(0.9910)\n",
            "tensor(0.9910)\n",
            "tensor(0.9909)\n",
            "tensor(0.9913)\n",
            "tensor(0.9908)\n",
            "tensor(0.9906)\n",
            "tensor(0.9907)\n",
            "tensor(0.9908)\n",
            "tensor(0.9905)\n",
            "tensor(0.9911)\n",
            "tensor(0.9909)\n",
            "tensor(0.9911)\n",
            "tensor(0.9908)\n",
            "tensor(0.9909)\n",
            "tensor(0.9909)\n",
            "tensor(0.9907)\n",
            "tensor(0.9909)\n",
            "tensor(0.9911)\n",
            "tensor(0.9904)\n",
            "tensor(0.9907)\n",
            "tensor(0.9907)\n",
            "tensor(0.9907)\n",
            "tensor(0.9909)\n",
            "tensor(0.9910)\n"
          ]
        }
      ]
    },
    {
      "cell_type": "code",
      "source": [
        "print(max(test_accuracy_history))\n",
        "\n",
        "import matplotlib.pyplot as plt\n",
        "\n",
        "plt.plot(test_accuracy_history);\n",
        "plt.plot(test_loss_history)\n",
        "# вывести легенду\n",
        "plt.legend(['accuracy', 'loss'])"
      ],
      "metadata": {
        "colab": {
          "base_uri": "https://localhost:8080/",
          "height": 465
        },
        "id": "LRnch7Y4ft-3",
        "outputId": "67c1aad2-ef89-40be-dc8f-73d4f8b7418d"
      },
      "execution_count": null,
      "outputs": [
        {
          "output_type": "stream",
          "name": "stdout",
          "text": [
            "tensor(0.9913)\n"
          ]
        },
        {
          "output_type": "execute_result",
          "data": {
            "text/plain": [
              "<matplotlib.legend.Legend at 0x7b0963afecb0>"
            ]
          },
          "metadata": {},
          "execution_count": 53
        },
        {
          "output_type": "display_data",
          "data": {
            "text/plain": [
              "<Figure size 640x480 with 1 Axes>"
            ],
            "image/png": "[encoded data removed]"
          },
          "metadata": {}
        }
      ]
    }
  ]
}
