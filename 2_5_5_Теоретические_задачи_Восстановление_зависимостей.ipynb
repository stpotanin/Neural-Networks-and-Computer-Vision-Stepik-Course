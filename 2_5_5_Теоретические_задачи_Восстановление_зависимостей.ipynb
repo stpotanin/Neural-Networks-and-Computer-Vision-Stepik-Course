{
  "nbformat": 4,
  "nbformat_minor": 0,
  "metadata": {
    "colab": {
      "provenance": [],
      "authorship_tag": "ABX9TyNFIkOJBKwzTPr3qFx17U5F"
    },
    "kernelspec": {
      "name": "python3",
      "display_name": "Python 3"
    },
    "language_info": {
      "name": "python"
    }
  },
  "cells": [
    {
      "cell_type": "markdown",
      "source": [
        "# Задача 2.5.5\n",
        "https://stepik.org/lesson/223827/step/5\n",
        "\n",
        "http://www.machinelearning.ru/wiki/images/5/50/MOMO17_Seminar2.pdf"
      ],
      "metadata": {
        "id": "UPUlf43H7r04"
      }
    },
    {
      "cell_type": "code",
      "execution_count": 1,
      "metadata": {
        "id": "3n9OZ3id7oZy"
      },
      "outputs": [],
      "source": [
        "# (X.T*X)^(-1)*X.T*y"
      ]
    },
    {
      "cell_type": "markdown",
      "source": [
        "# Решение\n",
        "Приравняем производную к нулю для нахождения минимального значения:\n",
        "\n",
        "$$\n",
        "2X^T(Xa-y)=0\n",
        "$$\n",
        "\n",
        "Находим вектор a:\n",
        "\n",
        "$$\n",
        "X^Ty=X^TXa\n",
        "$$\n",
        "\n",
        "$$\n",
        "a=(X^T*X)^{-1}*X^T*y\n",
        "$$"
      ],
      "metadata": {
        "id": "nQV91GvQkgSr"
      }
    }
  ]
}