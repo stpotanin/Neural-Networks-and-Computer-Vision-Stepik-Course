{
  "nbformat": 4,
  "nbformat_minor": 0,
  "metadata": {
    "colab": {
      "provenance": [],
      "authorship_tag": "ABX9TyNyghxTlffI038xMMeY2zit"
    },
    "kernelspec": {
      "name": "python3",
      "display_name": "Python 3"
    },
    "language_info": {
      "name": "python"
    }
  },
  "cells": [
    {
      "cell_type": "markdown",
      "source": [
        "# Задача 1.3.13\n",
        "https://stepik.org/lesson/210101/step/13"
      ],
      "metadata": {
        "id": "NsE3NdhB8mT2"
      }
    },
    {
      "cell_type": "code",
      "execution_count": null,
      "metadata": {
        "colab": {
          "base_uri": "https://localhost:8080/"
        },
        "id": "GuUdx2vC8duw",
        "outputId": "c2d2e09e-d0f8-4081-9c7c-5e3fc0c13f26"
      },
      "outputs": [
        {
          "output_type": "stream",
          "name": "stdout",
          "text": [
            "Реализация XOR через xor:\n",
            "0 0 0\n",
            "0 1 1\n",
            "1 0 1\n",
            "1 1 0\n",
            "\n",
            "Реализация НЕ через neuron:\n",
            "0 1\n",
            "1 0\n",
            "\n",
            "Реализация И через neuron:\n",
            "0 0 0\n",
            "0 1 0\n",
            "1 0 0\n",
            "1 1 1\n",
            "\n",
            "Реализация ИЛИ через neuron:\n",
            "0 0 0\n",
            "0 1 1\n",
            "1 0 1\n",
            "1 1 1\n",
            "\n",
            "Реализация XOR через neuron:\n",
            "0 0 СЮДА ВПИШИТЕ ВАШ КОД\n",
            "0 1 СЮДА ВПИШИТЕ ВАШ КОД\n",
            "1 0 СЮДА ВПИШИТЕ ВАШ КОД\n",
            "1 1 СЮДА ВПИШИТЕ ВАШ КОД\n"
          ]
        }
      ],
      "source": [
        "def xor(a, b):\n",
        "    return int((a and not b) or (not a and b))\n",
        "\n",
        "def neuron(x):\n",
        "    return 1 if x > 0 else 0\n",
        "\n",
        "input = [(0, 0), (0, 1), (1, 0), (1, 1)]\n",
        "\n",
        "print('Реализация XOR через xor:')\n",
        "for x1, x2 in input:\n",
        "    print(x1, x2, xor(x1, x2))\n",
        "\n",
        "print('\\nРеализация НЕ через neuron:')\n",
        "for x in [0, 1]:\n",
        "    print(x, neuron(-x+ 0.5))\n",
        "\n",
        "print('\\nРеализация И через neuron:')   # 1 1 -1.5\n",
        "for x1, x2 in input:\n",
        "    print(x1, x2, neuron(x1 + x2 - 1.5))\n",
        "\n",
        "print('\\nРеализация ИЛИ через neuron:') # 1 1 -0.5\n",
        "for x1, x2 in input:\n",
        "    print(x1, x2, neuron(x1 + x2 - 0.5))\n",
        "\n",
        "print('\\nРеализация XOR через neuron:')\n",
        "for x1, x2 in input:\n",
        "    print(x1, x2, neuron(neuron(x1 + x2 - 0.5) - neuron(x1 + x2 - 1.5) - 0.5))   # (ИЛИ) - (И) - 0.5\n"
      ]
    },
    {
      "cell_type": "code",
      "source": [
        "import numpy as np\n",
        "\n",
        "def neuron(x):\n",
        "    return 1 if x > 0 else 0\n",
        "\n",
        "def xor_nn(a, b):\n",
        "    # Входные данные для первого слоя (два нейрона)\n",
        "    input_data = np.array([a, b])\n",
        "\n",
        "    # Веса и смещения для первого слоя (скрытого слоя)\n",
        "    weights_hidden_layer = np.array([[1, 1], [-1, -1]])\n",
        "    bias_hidden_layer = np.array([0, 1])\n",
        "\n",
        "    # Расчёт значений скрытого слоя\n",
        "    hidden_layer_input = np.dot(input_data, weights_hidden_layer) + bias_hidden_layer\n",
        "    hidden_layer_output = np.array([neuron(x) for x in hidden_layer_input])\n",
        "\n",
        "    # Веса и смещения для выходного слоя\n",
        "    weights_output_layer = np.array([1, 1])\n",
        "    bias_output_layer = -1\n",
        "\n",
        "    # Расчёт значений выходного слоя\n",
        "    output_layer_input = np.dot(hidden_layer_output, weights_output_layer) + bias_output_layer\n",
        "    output = neuron(output_layer_input)\n",
        "\n",
        "    return output\n",
        "\n",
        "# Тестирование функции XOR\n",
        "inputs = [(0, 0), (0, 1), (1, 0), (1, 1)]\n",
        "\n",
        "print(\"XOR Neural Network\")\n",
        "print(\"A  B  XOR\")\n",
        "for a, b in inputs:\n",
        "    print(f\"{a}  {b}    {xor_nn(a, b)}\")\n"
      ],
      "metadata": {
        "colab": {
          "base_uri": "https://localhost:8080/"
        },
        "id": "WvhR7H4pHoIb",
        "outputId": "16b97bae-f65a-4d32-f8f9-a44aa86fc485"
      },
      "execution_count": null,
      "outputs": [
        {
          "output_type": "stream",
          "name": "stdout",
          "text": [
            "XOR Neural Network\n",
            "A  B  XOR\n",
            "0  0    0\n",
            "0  1    0\n",
            "1  0    1\n",
            "1  1    0\n"
          ]
        }
      ]
    }
  ]
}