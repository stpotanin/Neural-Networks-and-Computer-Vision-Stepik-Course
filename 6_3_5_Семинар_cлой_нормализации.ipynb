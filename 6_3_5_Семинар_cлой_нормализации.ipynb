{
  "nbformat": 4,
  "nbformat_minor": 0,
  "metadata": {
    "colab": {
      "provenance": [],
      "authorship_tag": "ABX9TyN/JhbDSuj3lQju8x83f6bw"
    },
    "kernelspec": {
      "name": "python3",
      "display_name": "Python 3"
    },
    "language_info": {
      "name": "python"
    }
  },
  "cells": [
    {
      "cell_type": "markdown",
      "source": [
        "https://stepik.org/lesson/303592/step/5"
      ],
      "metadata": {
        "id": "0GxCb9xCSl1L"
      }
    },
    {
      "cell_type": "code",
      "source": [
        "import torch\n",
        "import torch.nn as nn\n",
        "\n",
        "eps = 1e-3\n",
        "\n",
        "input_channels = 3\n",
        "batch_size = 3\n",
        "height = 10\n",
        "width = 10\n",
        "\n",
        "batch_norm_2d = nn.BatchNorm2d(input_channels, affine=False, eps=eps)\n",
        "\n",
        "input_tensor = torch.randn(batch_size, input_channels, height, width, dtype=torch.float)\n",
        "\n",
        "\n",
        "def custom_batch_norm2d(input_tensor, eps):\n",
        "    # Напишите в этом методе нормирование тензора.\n",
        "\n",
        "    # Способ 1. Не работает в версии платформы\n",
        "    # mean = input_tensor.mean(dim=(0, 2, 3), keepdim=True)\n",
        "    # var = input_tensor.var(dim=(0, 2, 3), keepdim=True, unbiased=False)\n",
        "    # normed_tensor = (input_tensor - mean) / torch.sqrt(var + eps)\n",
        "\n",
        "    # Способ 2.Через .cat и .unsqueeze\n",
        "    # mean = torch.cat([torch.mean(input_tensor[:,i,:,:]).unsqueeze(0) for i in range(input_tensor.shape[1])], dim=0) # цикл по каналам\n",
        "    # var = torch.cat([torch.var(input_tensor[:,i,:,:], unbiased=False).unsqueeze(0) for i in range(input_tensor.shape[1])], dim=0)\n",
        "    # normed_tensor = torch.cat([((input_tensor[:,i,:,:] - mean[i])/torch.sqrt(var[i]+eps)).unsqueeze(1) for i in range(input_tensor.shape[1])], dim=1)\n",
        "\n",
        "    # Способ 3. Через .stack\n",
        "    mean = torch.tensor([torch.mean(input_tensor[:,i,:,:]) for i in range(input_tensor.shape[1])])\n",
        "    var = torch.tensor([torch.var(input_tensor[:,i,:,:], unbiased=False) for i in range(input_tensor.shape[1])])\n",
        "    normed_tensor = torch.stack([(input_tensor[:, i, :, :] - mean[i])\n",
        "    / torch.sqrt(var[i] + eps)for i in range(input_tensor.shape[1])], dim=1)\n",
        "\n",
        "    return normed_tensor\n",
        "\n",
        "\n",
        "# Проверка происходит автоматически вызовом следующего кода\n",
        "# (раскомментируйте для самостоятельной проверки,\n",
        "#  в коде для сдачи задания должно быть закомментировано):\n",
        "# norm_output = batch_norm_2d(input_tensor)\n",
        "# custom_output = custom_batch_norm2d(input_tensor, eps)\n",
        "# print(torch.allclose(norm_output, custom_output) and norm_output.shape == custom_output.shape)"
      ],
      "metadata": {
        "colab": {
          "base_uri": "https://localhost:8080/"
        },
        "id": "vk9AI3v4wtbB",
        "outputId": "08e33701-2898-42e0-9496-5a31e5b3c269"
      },
      "execution_count": null,
      "outputs": [
        {
          "output_type": "stream",
          "name": "stdout",
          "text": [
            "True\n"
          ]
        }
      ]
    },
    {
      "cell_type": "markdown",
      "source": [
        "# Объяснение для Способа 2\n",
        "`unsqueeze(0)` не участвует непосредственно в вычислении среднего значения. Он используется для **подготовки тензоров к объединению** (`torch.cat`).\n",
        "\n",
        "**Пошагово:**\n",
        "\n",
        "1. **Цикл по каналам:**\n",
        "   * `for i in range(input_tensor.shape[1])`:  Цикл проходит по каждому каналу входного тензора (`input_tensor`).\n",
        "\n",
        "2. **Вычисление среднего по каналу:**\n",
        "   * `torch.mean(input_tensor[:,i,:,:])`: Вычисляет среднее значение всех элементов в `i`-м канале (по всем элементам `batch`, \"высоте\" и \"ширине\").\n",
        "   * Результат — скалярное значение (одно число), представляющее среднее значение по каналу.\n",
        "\n",
        "3. **Добавление размерности:**\n",
        "   * `unsqueeze(0)`:  Добавляет новую ось (размерность) на нулевую позицию, делая скалярное значение тензором с размерностью `(1,)`.\n",
        "\n",
        "4. **Объединение тензоров:**\n",
        "   * `torch.cat([...], dim=0)`: Объединяет полученные тензоры среднего значения для всех каналов вдоль первой оси (ось \"batch\").\n",
        "   * Результат — тензор `mean` с размерностью `(input_channels,)`.\n",
        "\n",
        "**Пример:**\n",
        "\n",
        "Представьте, что у вас входной тензор `input_tensor` с размерностью `(2, 3, 4, 5)`.\n",
        "\n",
        "* `i = 0`: Вычисляется среднее значение по первому каналу — это одно число.\n",
        "* `unsqueeze(0)` делает это число тензором с размерностью `(1,)`.\n",
        "* После прохождения по всем каналам (`i = 0, 1, 2`), `torch.cat` объединяет 3 тензора среднего значения вдоль первой оси, создавая тензор `mean` с размерностью `(3,)`.\n",
        "\n",
        "**Почему `unsqueeze(0)` нужен?**\n",
        "\n",
        "* **Совместимость с `torch.cat`:** `torch.cat` требует, чтобы тензоры, которые объединяются, имели одинаковое количество размерностей.  \n",
        "* **Размерность для объединения:** `unsqueeze(0)` добавляет размерность \"batch\", чтобы тензор среднего значения был совместим с тензорами из других каналов, которые будут объединены в `torch.cat`.\n",
        "\n",
        "**Вкратце:** `unsqueeze(0)` используется для создания тензоров среднего значения с правильной размерностью для последующего объединения в тензор `mean`.\n",
        "\n",
        "# Объяснение для Способа 3\n",
        "\n",
        "```python\n",
        "normed_tensor = torch.stack([\n",
        "    (input_tensor[:, i, :, :] - mean[i]) / torch.sqrt(var[i] + eps)\n",
        "    for i in range(input_tensor.shape[1])], dim=1)\n",
        "```\n",
        "\n",
        "**Объяснение:**\n",
        "\n",
        "1. **Список нормализованных тензоров:**\n",
        "   * `[(input_tensor[:, i, :, :] - mean[i]) / torch.sqrt(var[i] + eps) for i in range(input_tensor.shape[1])]`:  Создается список, где каждый элемент — это тензор с нормализованными значениями для соответствующего канала.\n",
        "\n",
        "2. **Объединение тензоров:**\n",
        "   * `torch.stack([...], dim=1)`:  Создает новый тензор, \"складывая\" тензоры из списка вдоль второй оси (`dim=1`).\n",
        "\n",
        "**Почему `torch.stack` лучше, чем `torch.cat` с `unsqueeze(1)`?**\n",
        "\n",
        "* **Назначение `torch.stack`:**  `torch.stack` предназначен для объединения тензоров по новой оси, добавляя новую размерность. Это то, что вам нужно в этом случае.\n",
        "* **`torch.cat` с `unsqueeze(1)`:**  `torch.cat` объединяет тензоры вдоль уже существующей оси. Вам нужно было добавлять новую ось с помощью `unsqueeze(1)`, чтобы `torch.cat` работал корректно.\n",
        "\n",
        "**Вкратце:**  `torch.stack` — это более подходящая функция для объединения тензоров, когда требуется добавить новую размерность.\n",
        "\n",
        "**Дополнительные сведения:**\n",
        "\n",
        "* `torch.stack` создает новый тензор, объединяя тензоры по новой оси.\n",
        "* `torch.cat` объединяет тензоры вдоль уже существующей оси.\n"
      ],
      "metadata": {
        "id": "nr_zEjtQ60Re"
      }
    },
    {
      "cell_type": "code",
      "source": [
        "import torch\n",
        "import torch.nn as nn\n",
        "\n",
        "eps = 1e-3\n",
        "\n",
        "input_channels = 3\n",
        "batch_size = 3\n",
        "height = 10\n",
        "width = 10\n",
        "\n",
        "batch_norm_2d = nn.BatchNorm2d(input_channels, affine=False, eps=eps)\n",
        "\n",
        "input_tensor = torch.randn(batch_size, input_channels, height, width, dtype=torch.float)\n",
        "\n",
        "\n",
        "def custom_batch_norm2d(input_tensor, eps):\n",
        "    # Напишите в этом методе нормирование тензора.\n",
        "    normed_tensor = (input_tensor - input_tensor.mean(axis=(0, 2, 3), keepdim=True)) / torch.sqrt(input_tensor.var(axis=(0, 2, 3), keepdim=True, unbiased=False) + eps)\n",
        "    return normed_tensor\n",
        "\n",
        "\n",
        "# Проверка происходит автоматически вызовом следующего кода\n",
        "# (раскомментируйте для самостоятельной проверки,\n",
        "#  в коде для сдачи задания должно быть закомментировано):\n",
        "norm_output = batch_norm_2d(input_tensor)\n",
        "custom_output = custom_batch_norm2d(input_tensor, eps)\n",
        "print(torch.allclose(norm_output, custom_output) and norm_output.shape == custom_output.shape)"
      ],
      "metadata": {
        "colab": {
          "base_uri": "https://localhost:8080/"
        },
        "id": "RJGIYx20FXJ0",
        "outputId": "f1840ed6-75cd-4d25-97ce-50fb7451e127"
      },
      "execution_count": null,
      "outputs": [
        {
          "output_type": "stream",
          "name": "stdout",
          "text": [
            "True\n"
          ]
        }
      ]
    },
    {
      "cell_type": "code",
      "source": [
        "import torch\n",
        "\n",
        "x = torch.randn(2, 2, 2, 2)\n",
        "\n",
        "# Вычисление среднего значения по осям 0, 2 и 3, сохраняя размерности\n",
        "y = x.mean(dim=(0, 2, 3), keepdim=True)\n",
        "y = x.mean()\n",
        "\n",
        "print(x.shape) # Вывод: torch.Size([2, 3, 4, 5])\n",
        "print(x)\n",
        "print(y.shape) # Вывод: torch.Size([1, 3, 1, 1])\n",
        "print(y)"
      ],
      "metadata": {
        "colab": {
          "base_uri": "https://localhost:8080/"
        },
        "id": "5ZrNQY1vpLhu",
        "outputId": "1a5fb18e-4aea-45bc-8f84-f08a94e68f6e"
      },
      "execution_count": null,
      "outputs": [
        {
          "output_type": "stream",
          "name": "stdout",
          "text": [
            "torch.Size([2, 2, 2, 2])\n",
            "tensor([[[[-0.1896,  2.1385],\n",
            "          [-0.4014,  0.2318]],\n",
            "\n",
            "         [[-1.4736, -1.3380],\n",
            "          [-2.0564,  0.6847]]],\n",
            "\n",
            "\n",
            "        [[[-1.0613,  0.6353],\n",
            "          [ 2.5046,  0.5319]],\n",
            "\n",
            "         [[ 0.3663,  0.5198],\n",
            "          [-0.8723,  1.7398]]]])\n",
            "torch.Size([])\n",
            "tensor(0.1225)\n"
          ]
        }
      ]
    },
    {
      "cell_type": "code",
      "source": [
        "#@title Как работает unsqueeze(0) и unsqueeze(1)\n",
        "x = torch.randn(2, 2, 2, 2)\n",
        "\n",
        "y0 = x.unsqueeze(0)\n",
        "y1 = x.unsqueeze(3)\n",
        "\n",
        "print(x.shape) # Вывод: torch.Size([2, 3, 4, 5])\n",
        "print(x)\n",
        "print(y0.shape) # Вывод: torch.Size([1, 2, 3, 4, 5])\n",
        "print(y0)\n",
        "print(y1.shape) # Вывод: torch.Size([2, 1, 3, 4, 5])\n",
        "print(y1)\n",
        "#"
      ],
      "metadata": {
        "colab": {
          "base_uri": "https://localhost:8080/"
        },
        "id": "lICzNXYV377b",
        "outputId": "b98770a2-928f-45e7-a1e9-27404417ad0d"
      },
      "execution_count": null,
      "outputs": [
        {
          "output_type": "stream",
          "name": "stdout",
          "text": [
            "torch.Size([2, 2, 2, 2])\n",
            "tensor([[[[ 0.2715,  1.6148],\n",
            "          [ 1.1601, -0.3181]],\n",
            "\n",
            "         [[ 1.2772, -1.0144],\n",
            "          [ 0.5571, -0.4251]]],\n",
            "\n",
            "\n",
            "        [[[ 1.4495,  1.4195],\n",
            "          [-1.0405, -0.1200]],\n",
            "\n",
            "         [[ 0.2292, -0.5486],\n",
            "          [-0.0263, -0.6131]]]])\n",
            "torch.Size([1, 2, 2, 2, 2])\n",
            "tensor([[[[[ 0.2715,  1.6148],\n",
            "           [ 1.1601, -0.3181]],\n",
            "\n",
            "          [[ 1.2772, -1.0144],\n",
            "           [ 0.5571, -0.4251]]],\n",
            "\n",
            "\n",
            "         [[[ 1.4495,  1.4195],\n",
            "           [-1.0405, -0.1200]],\n",
            "\n",
            "          [[ 0.2292, -0.5486],\n",
            "           [-0.0263, -0.6131]]]]])\n",
            "torch.Size([2, 2, 2, 1, 2])\n",
            "tensor([[[[[ 0.2715,  1.6148]],\n",
            "\n",
            "          [[ 1.1601, -0.3181]]],\n",
            "\n",
            "\n",
            "         [[[ 1.2772, -1.0144]],\n",
            "\n",
            "          [[ 0.5571, -0.4251]]]],\n",
            "\n",
            "\n",
            "\n",
            "        [[[[ 1.4495,  1.4195]],\n",
            "\n",
            "          [[-1.0405, -0.1200]]],\n",
            "\n",
            "\n",
            "         [[[ 0.2292, -0.5486]],\n",
            "\n",
            "          [[-0.0263, -0.6131]]]]])\n"
          ]
        }
      ]
    }
  ]
}