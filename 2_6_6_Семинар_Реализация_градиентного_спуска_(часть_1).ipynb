{
  "nbformat": 4,
  "nbformat_minor": 0,
  "metadata": {
    "colab": {
      "provenance": [],
      "authorship_tag": "ABX9TyMnY3aZ9PZc/WqSOwklSKZq"
    },
    "kernelspec": {
      "name": "python3",
      "display_name": "Python 3"
    },
    "language_info": {
      "name": "python"
    }
  },
  "cells": [
    {
      "cell_type": "markdown",
      "source": [
        "# Задача 2.6.6\n",
        "https://stepik.org/lesson/236465/step/6\n",
        "\n",
        "Допустим, у нас есть функция $ f(X)=∑log_e (x_{ij} + 1) $, где $ X $ - тензор размера 2x2. Мы выбрали начальное приближение $ X^{t=0} =[[1,2],[4,5]] $. И шаг градиентного спуска $ α=10 $. Чему будет равен $ X^{t=1} $ ?"
      ],
      "metadata": {
        "id": "SDnxVZeunBE0"
      }
    },
    {
      "cell_type": "code",
      "source": [
        "# [[-4.0000, -1.3333], [ 2.0000,  3.3333]]"
      ],
      "metadata": {
        "id": "Sujlvj39oGQl"
      },
      "execution_count": 1,
      "outputs": []
    },
    {
      "cell_type": "markdown",
      "source": [
        "# Решение\n",
        "$$\n",
        "f'(x) = \\frac{1}{x+1}\n",
        "$$\n",
        "\n",
        "Для каждого элемента матрицы считаем:\n",
        "\n",
        "$$\n",
        "x^{t+1} =f(x^{t+1} )=|f(x^t -α*f' (x^t ))| =x^t-α*f ' (x^t )\n",
        "$$\n",
        "\n",
        "для 1 это 1 - 10 / (1 + 1) = -4\n",
        "\n",
        "для 2 это 2 - 10 / (1 + 2) = -1,33333333333\n",
        "\n",
        "для 4 это 4 - 10 / (1 + 4) = 2\n",
        "\n",
        "для 5 это 5 - 10 / (1 + 5) = 3,33333333333"
      ],
      "metadata": {
        "id": "5QD2kOlHoG7N"
      }
    },
    {
      "cell_type": "code",
      "source": [
        "# Найдем производную функции\n",
        "from sympy import Symbol, diff, log\n",
        "import torch\n",
        "# from sympy.concrete.summations import Sum можно сделать и через сумму, но там нужно указывать границы и т. д.\n",
        "\n",
        "# Для дальнейшей работы нужно создать \"symbol\" x\n",
        "x = Symbol(\"x\")\n",
        "\n",
        "# Функция для которой ищем производную\n",
        "func = log(x + 1)\n",
        "\n",
        "# Поиск производной функции по переменной (символу) x\n",
        "first_derivative = func.diff(x)\n",
        "\n",
        "first_derivative # Вывод в честнейшем markdown"
      ],
      "metadata": {
        "colab": {
          "base_uri": "https://localhost:8080/",
          "height": 52
        },
        "id": "maEx_0nfttKk",
        "outputId": "59ec132a-9b5e-4659-a80e-58a29ff2d7c0"
      },
      "execution_count": 2,
      "outputs": [
        {
          "output_type": "execute_result",
          "data": {
            "text/plain": [
              "1/(x + 1)"
            ],
            "text/latex": "$\\displaystyle \\frac{1}{x + 1}$"
          },
          "metadata": {},
          "execution_count": 2
        }
      ]
    },
    {
      "cell_type": "code",
      "source": [
        "# Известные параметры функция, тензор и аргумент альфа\n",
        "X_t0 = torch.tensor([\n",
        "    [1,2],\n",
        "    [4,5]],\n",
        ")\n",
        "\n",
        "alpha = 10\n",
        "\n",
        "X_t0_diff = (1 / (X_t0 + 1)) # Найденная производная из фрагмента выше\n",
        "\n",
        "# То что требуют нас найти\n",
        "X_1 = X_t0 - alpha * X_t0_diff\n",
        "\n",
        "# Ответ\n",
        "X_1"
      ],
      "metadata": {
        "colab": {
          "base_uri": "https://localhost:8080/"
        },
        "id": "84CtCtMjuC_Z",
        "outputId": "587e711c-2107-416b-93ac-69f702a54ba9"
      },
      "execution_count": 5,
      "outputs": [
        {
          "output_type": "execute_result",
          "data": {
            "text/plain": [
              "tensor([[-4.0000, -1.3333],\n",
              "        [ 2.0000,  3.3333]])"
            ]
          },
          "metadata": {},
          "execution_count": 5
        }
      ]
    }
  ]
}