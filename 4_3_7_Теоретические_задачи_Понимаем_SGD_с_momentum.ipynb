{
  "nbformat": 4,
  "nbformat_minor": 0,
  "metadata": {
    "colab": {
      "provenance": [],
      "authorship_tag": "ABX9TyP1LwAednyN6zW3y4kwN92r"
    },
    "kernelspec": {
      "name": "python3",
      "display_name": "Python 3"
    },
    "language_info": {
      "name": "python"
    }
  },
  "cells": [
    {
      "cell_type": "markdown",
      "source": [
        "https://stepik.org/lesson/227718/step/7\n",
        "\n",
        "Допустим, что точка $x_0$, с которой мы начинаем оптимизацию, отстоит от точки оптимума на расстояние $ρ$ . Для оптимизации мы будем использовать алгоритм:\n",
        "\n",
        "$$x_{t+1} =x_t -α \\frac{∇L}{∥∇L∥_2^2 +ϵ^2 },$$\n",
        "\n",
        "где $ϵ ≪ ∥ ∇ L ∥_2$.\n",
        "\n",
        "Найдите минимальное число шагов, которое нужно будет сделать таким алгоритмом, чтобы достичь оптимума.\n",
        "$ρ$ обозначайте как `rho`, $α$ – как `alpha`. Операцию округления в вверх обозначайте `ceil`.\n",
        "\n",
        "Подумайте, как этот алгоритм соотносится с алгоритмом Adam."
      ],
      "metadata": {
        "id": "G_lQ6SJcq8mS"
      }
    },
    {
      "cell_type": "code",
      "source": [
        "#@title Ответ\n",
        "# ceil(rho**2/2*alpha)"
      ],
      "metadata": {
        "id": "SHgfV0FYtT4e"
      },
      "execution_count": null,
      "outputs": []
    },
    {
      "cell_type": "markdown",
      "source": [
        "# Решение\n",
        "Можно пренебречь $ \\epsilon^2 $ в знаменателе (так как $ \\epsilon^2 $ очень мало). Тогда:\n",
        "$$\n",
        "\\rho_{t+1} \\approx \\rho_t \\left(1 - \\frac{\\alpha}{\\rho_t^2}\\right)\n",
        "$$\n",
        "Но это приближение не совсем верное, так как вектор $\\rho_t$ сам по себе уже пропорционален $ \\mathbf{x}_t - \\mathbf{x}^*$, а не к его квадрату.\n",
        "\n",
        "Так, правильнее предположить, что $\\rho_t$ уменьшится на каждом шаге на величину порядка $\\frac{\\alpha}{\\rho_t}$:\n",
        "$$\n",
        "\\rho_{t+1} \\approx \\rho_t - \\frac{\\alpha}{\\rho_t} + O\\left(\\frac{\\alpha^2}{\\rho_t^3}\\right)\n",
        "$$\n",
        "Тогда общее число шагов $ T $, чтобы $ \\rho_T $ приблизилось к нулю, примерно равно:\n",
        "$$\n",
        "T \\approx \\frac{\\rho_0}{\\alpha}\n",
        "$$\n",
        "где $ \\rho_0 $ — начальное расстояние до оптимума.\n",
        "\n",
        "Таким образом, минимальное число шагов $ T $, чтобы достичь оптимума, примерно равно $ \\frac{\\rho_0}{\\alpha} $."
      ],
      "metadata": {
        "id": "AGjaIujbs3MQ"
      }
    }
  ]
}