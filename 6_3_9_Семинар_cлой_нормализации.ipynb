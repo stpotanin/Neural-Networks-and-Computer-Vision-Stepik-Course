{
  "nbformat": 4,
  "nbformat_minor": 0,
  "metadata": {
    "colab": {
      "provenance": [],
      "authorship_tag": "ABX9TyNAluZuavgRaBqt9UOK/wRL"
    },
    "kernelspec": {
      "name": "python3",
      "display_name": "Python 3"
    },
    "language_info": {
      "name": "python"
    }
  },
  "cells": [
    {
      "cell_type": "markdown",
      "source": [
        "https://stepik.org/lesson/303592/step/9"
      ],
      "metadata": {
        "id": "0GxCb9xCSl1L"
      }
    },
    {
      "cell_type": "code",
      "source": [
        "import torch\n",
        "import torch.nn as nn\n",
        "\n",
        "channel_count = 6\n",
        "eps = 1e-3\n",
        "batch_size = 20\n",
        "input_size = 2\n",
        "\n",
        "input_tensor = torch.randn(batch_size, channel_count, input_size)\n",
        "\n",
        "\n",
        "def custom_group_norm(input_tensor, groups, eps):\n",
        "    # Напишите в этом месте нормирование тензора\n",
        "\n",
        "    custom_group_normed_tensor = torch.zeros_like(input_tensor)\n",
        "    step = channel_count // groups\n",
        "    for batch in range(0, batch_size):\n",
        "        for i in range(0, channel_count, step):\n",
        "\n",
        "            # Способ 1 (не работает на платформе Stepik)\n",
        "            # mean = input_tensor[(batch,), i:i + step, :].mean(dim=[1, 2])\n",
        "            # var = input_tensor[(batch,), i:i + step, :].var(dim=[1, 2], unbiased=False)\n",
        "\n",
        "            # Способ 2:\n",
        "            mean = input_tensor[(batch,), i:i + step, :].reshape(-1).mean(dim=0)\n",
        "            var = input_tensor[(batch,), i:i + step, :].reshape(-1).var(dim=0, unbiased=False)\n",
        "\n",
        "            normed_region = (input_tensor[batch, i:i + step, :] - mean) / torch.sqrt(var + eps)\n",
        "            custom_group_normed_tensor[batch, i:i + step, :] = normed_region\n",
        "\n",
        "    return custom_group_normed_tensor\n",
        "\n",
        "\n",
        "# Проверка происходит автоматически вызовом следующего кода\n",
        "# (раскомментируйте для самостоятельной проверки,\n",
        "#  в коде для сдачи задания должно быть закомментировано):\n",
        "all_correct = True\n",
        "for groups in [1, 2, 3, 6]:\n",
        "    group_norm = nn.GroupNorm(groups, channel_count, eps=eps, affine=False)\n",
        "    norm_output = group_norm(input_tensor)\n",
        "    custom_output = custom_group_norm(input_tensor, groups, eps)\n",
        "    all_correct &= torch.allclose(norm_output, custom_output, 1e-3)\n",
        "    all_correct &= norm_output.shape == custom_output.shape\n",
        "    # if groups == 1:\n",
        "    #     print(norm_output[0][1])\n",
        "    #     print(custom_output[0][1])\n",
        "print(all_correct)"
      ],
      "metadata": {
        "colab": {
          "base_uri": "https://localhost:8080/"
        },
        "id": "n0Z-82YENkD3",
        "outputId": "86e685e3-fbaa-48ae-b744-dcde0805a158"
      },
      "execution_count": null,
      "outputs": [
        {
          "output_type": "stream",
          "name": "stdout",
          "text": [
            "True\n"
          ]
        }
      ]
    }
  ]
}