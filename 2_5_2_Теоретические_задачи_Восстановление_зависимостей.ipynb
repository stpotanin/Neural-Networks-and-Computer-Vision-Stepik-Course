{
  "nbformat": 4,
  "nbformat_minor": 0,
  "metadata": {
    "colab": {
      "provenance": [],
      "authorship_tag": "ABX9TyNQdo/pv9yXN0SPQ/8c0xMX"
    },
    "kernelspec": {
      "name": "python3",
      "display_name": "Python 3"
    },
    "language_info": {
      "name": "python"
    }
  },
  "cells": [
    {
      "cell_type": "markdown",
      "source": [
        "https://stepik.org/lesson/223827/step/2"
      ],
      "metadata": {
        "id": "jLIjLjLpI6kS"
      }
    },
    {
      "cell_type": "code",
      "execution_count": null,
      "metadata": {
        "id": "JaZ-Dv8lIq0e"
      },
      "outputs": [],
      "source": [
        "# 2*X.T*(X*a-y)"
      ]
    },
    {
      "cell_type": "markdown",
      "source": [
        "# Решение\n",
        "Дано:\n",
        "\n",
        "- $ y $ — вектор наблюдений (размерности $ N $),\n",
        "- $ X $ — матрица признаков (размерности $ N \\times N $),\n",
        "- $ \\mathbf{a} $ — вектор параметров, который мы хотим найти (размерности $ M $).\n",
        "\n",
        "Необходимо найти производную функции:\n",
        "\n",
        "$$\n",
        "L_2 = \\| y - X \\mathbf{a} \\|_2^2 = (y - X \\mathbf{a})^T (y - X \\mathbf{a})\n",
        "$$\n",
        "\n",
        "### Работа с квадратичной функцией\n",
        "\n",
        "Развернём выражение $ \\| y - X \\mathbf{a} \\|_2^2 $:\n",
        "\n",
        "$$\n",
        "\\| y - X \\mathbf{a} \\|_2^2 = (y - X \\mathbf{a})^T (y - X \\mathbf{a})\n",
        "$$\n",
        "\n",
        "Раскроем скобки:\n",
        "\n",
        "$$\n",
        "(y - X\\mathbf{a})^T (y - X\\mathbf{a}) = y^T y - 2 y^T X\\mathbf{a} + \\mathbf{a}^T X^T X\\mathbf{a}\n",
        "$$\n",
        "\n",
        "### Нахождение производной\n",
        "\n",
        "Теперь найдём производную этого выражения по $\\mathbf{a}$.\n",
        "\n",
        "1. Производная $ y^T y $ по $\\mathbf{a}$ равна нулю, так как $ y $ не зависит от $\\mathbf{a}$.\n",
        "2. Производная $ -2 y^T X \\mathbf{a} $ по $\\mathbf{a}$:\n",
        "\n",
        "$$\n",
        "\\frac{\\partial}{\\partial \\mathbf{a}} (-2 y^T X \\mathbf{a}) = -2 X^T y\n",
        "$$\n",
        "\n",
        "3. Производная $\\mathbf{a}^T X^T X \\mathbf{a}$ по $\\mathbf{a}$:\n",
        "\n",
        "$$\n",
        "\\frac{\\partial}{\\partial \\mathbf{a}} (\\mathbf{a}^T X^T X \\mathbf{a}) = 2 X^T X \\mathbf{a}\n",
        "$$"
      ],
      "metadata": {
        "id": "rmt0F3_CJDX7"
      }
    },
    {
      "cell_type": "markdown",
      "source": [
        "## Доказательство последнего шага\n",
        "Рассмотрим выражение:\n",
        "\n",
        "$$\n",
        "f(\\mathbf{a}) = \\mathbf{a}^T X^T X \\mathbf{a}.\n",
        "$$\n",
        "\n",
        "Это квадратичная форма по вектору $\\mathbf{a}$.\n",
        "\n",
        "### Шаг 1: Преобразование выражения\n",
        "Перепишем $ f(\\mathbf{a}) $ для удобства:\n",
        "\n",
        "$$\n",
        "f(\\mathbf{a}) = \\mathbf{a}^T M \\mathbf{a},\n",
        "$$\n",
        "\n",
        "где $ M = X^T X $, и $ M $ — симметричная матрица, поскольку $ X^T X $ всегда симметрична.\n",
        "\n",
        "### Шаг 2: Вспомогательная формула\n",
        "Известно, что производная квадратичной формы $ \\mathbf{a}^T M \\mathbf{a} $ по вектору $\\mathbf{a}$ равна:\n",
        "\n",
        "$$\n",
        "\\frac{\\partial}{\\partial \\mathbf{a}} (\\mathbf{a}^T M \\mathbf{a}) = 2 M \\mathbf{a}.\n",
        "$$\n",
        "\n",
        "Это можно доказать следующим образом.\n",
        "\n",
        "### Шаг 3: Производная по вектору\n",
        "Запишем $ \\mathbf{a}^T M \\mathbf{a} $ в явном виде как скаляр:\n",
        "\n",
        "$$\n",
        "\\mathbf{a}^T M \\mathbf{a} = \\sum_{i=1}^n \\sum_{j=1}^n a_i M_{ij} a_j.\n",
        "$$\n",
        "\n",
        "Чтобы вычислить частную производную этого выражения по компоненте $ a_k $, воспользуемся правилом дифференцирования суммы:\n",
        "\n",
        "$$\n",
        "\\frac{\\partial}{\\partial a_k} \\left( \\sum_{i=1}^n \\sum_{j=1}^n a_i M_{ij} a_j \\right) = \\sum_{i=1}^n M_{ik} a_i + \\sum_{j=1}^n M_{kj} a_j.\n",
        "$$\n",
        "\n",
        "Так как матрица $ M $ симметрична ($ M_{ik} = M_{ki} $), это упрощается до:\n",
        "\n",
        "$$\n",
        "\\frac{\\partial}{\\partial a_k} (\\mathbf{a}^T M \\mathbf{a}) = 2 \\sum_{i=1}^n M_{ik} a_i = 2 (M \\mathbf{a})_k.\n",
        "$$\n",
        "\n",
        "Таким образом, мы получаем общий результат:\n",
        "\n",
        "$$\n",
        "\\frac{\\partial}{\\partial \\mathbf{a}} (\\mathbf{a}^T M \\mathbf{a}) = 2 M \\mathbf{a}.\n",
        "$$\n",
        "\n",
        "### Шаг 4: Применение к исходному выражению\n",
        "В нашем случае $ M = X^T X $, следовательно:\n",
        "\n",
        "$$\n",
        "\\frac{\\partial}{\\partial \\mathbf{a}} (\\mathbf{a}^T X^T X \\mathbf{a}) = 2 X^T X \\mathbf{a}.\n",
        "$$\n",
        "\n",
        "Таким образом, производная данного выражения равна $ 2 X^T X \\mathbf{a} $."
      ],
      "metadata": {
        "id": "7PI9xN4oJZpv"
      }
    },
    {
      "cell_type": "markdown",
      "source": [
        "# Итого:\n",
        "\n",
        "$$\n",
        "\\frac{\\partial}{\\partial \\mathbf{a}} \\left( y^T y - 2 y^T X\\mathbf{a} + \\mathbf{a}^T X^T X\\mathbf{a} \\right) = -2 X^T y + 2 X^T X \\mathbf{a}\n",
        "$$\n",
        "\n",
        "Упростим выражение:\n",
        "\n",
        "$$\n",
        "\\frac{\\partial}{\\partial \\mathbf{a}} \\left( (y - X\\mathbf{a})^T (y - X\\mathbf{a}) \\right) = 2 X^T (X\\mathbf{a} - y)\n",
        "$$"
      ],
      "metadata": {
        "id": "k2NXg6tSKZFW"
      }
    }
  ]
}