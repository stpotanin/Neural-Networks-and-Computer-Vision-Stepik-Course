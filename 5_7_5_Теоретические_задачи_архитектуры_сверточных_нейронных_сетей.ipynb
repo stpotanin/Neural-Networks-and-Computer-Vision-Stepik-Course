{
  "nbformat": 4,
  "nbformat_minor": 0,
  "metadata": {
    "colab": {
      "provenance": [],
      "gpuType": "V28"
    },
    "kernelspec": {
      "name": "python3",
      "display_name": "Python 3"
    },
    "language_info": {
      "name": "python"
    },
    "accelerator": "TPU"
  },
  "cells": [
    {
      "cell_type": "markdown",
      "source": [
        "https://stepik.org/lesson/240833/step/5"
      ],
      "metadata": {
        "id": "Wgv4tkt5YhPT"
      }
    },
    {
      "cell_type": "code",
      "source": [
        "import torch\n",
        "from torch.nn import Sequential, Conv2d\n",
        "\n",
        "C = 1\n",
        "model = Sequential(\n",
        "    Conv2d(2 * C, 2 * C, kernel_size=(3, 3), padding=1, bias=False)\n",
        ")\n",
        "\n",
        "num_params = 0\n",
        "for param in model.parameters():\n",
        "    num_params += param.numel()\n",
        "\n",
        "print(f\"Number of parameters: {num_params}\")"
      ],
      "metadata": {
        "colab": {
          "base_uri": "https://localhost:8080/"
        },
        "id": "MPvUJ_8sn55R",
        "outputId": "92ad4e50-739a-4a0f-879b-c191d4c9c1bd"
      },
      "execution_count": null,
      "outputs": [
        {
          "output_type": "stream",
          "name": "stdout",
          "text": [
            "Number of parameters: 36\n"
          ]
        }
      ]
    },
    {
      "cell_type": "code",
      "source": [
        "for param in model.parameters():\n",
        "    print(param.numel())"
      ],
      "metadata": {
        "id": "Coqz0_9RsTq7",
        "outputId": "bc3a7e95-c629-4c63-963c-c7f93d65b888",
        "colab": {
          "base_uri": "https://localhost:8080/"
        }
      },
      "execution_count": null,
      "outputs": [
        {
          "output_type": "stream",
          "name": "stdout",
          "text": [
            "36\n"
          ]
        }
      ]
    },
    {
      "cell_type": "code",
      "source": [
        "model_2 = Sequential(\n",
        "    Conv2d(2 * C, C, kernel_size=(1, 1), bias=False),\n",
        "    Conv2d(C, C, kernel_size=(3, 3), padding=1, bias=False),\n",
        "    Conv2d(C, 2 * C, kernel_size=(1, 1), bias=False)\n",
        ")\n",
        "\n",
        "num_params_2 = 0\n",
        "for param in model_2.parameters():\n",
        "    num_params_2 += param.numel()\n",
        "\n",
        "print(f\"Number of parameters: {num_params_2}\")"
      ],
      "metadata": {
        "colab": {
          "base_uri": "https://localhost:8080/"
        },
        "id": "d6P39PyVoJWc",
        "outputId": "46c5bb0e-caab-494c-f5e7-84fe710e2f0f"
      },
      "execution_count": null,
      "outputs": [
        {
          "output_type": "stream",
          "name": "stdout",
          "text": [
            "Number of parameters: 13\n"
          ]
        }
      ]
    },
    {
      "cell_type": "code",
      "source": [
        "for param in model_2.parameters():\n",
        "    print(param.numel())"
      ],
      "metadata": {
        "colab": {
          "base_uri": "https://localhost:8080/"
        },
        "id": "VHNxpT_br-FM",
        "outputId": "a813205e-c26a-4688-b26f-c88c8c4b2a03"
      },
      "execution_count": null,
      "outputs": [
        {
          "output_type": "stream",
          "name": "stdout",
          "text": [
            "2\n",
            "9\n",
            "2\n"
          ]
        }
      ]
    }
  ]
}