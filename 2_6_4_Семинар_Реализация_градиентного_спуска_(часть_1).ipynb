{
  "nbformat": 4,
  "nbformat_minor": 0,
  "metadata": {
    "colab": {
      "provenance": [],
      "authorship_tag": "ABX9TyPssuDRClg26q+M3i78++z5"
    },
    "kernelspec": {
      "name": "python3",
      "display_name": "Python 3"
    },
    "language_info": {
      "name": "python"
    }
  },
  "cells": [
    {
      "cell_type": "markdown",
      "source": [
        "# Задача 2.6.4\n",
        "https://stepik.org/lesson/236465/step/4\n",
        "\n",
        "Допустим, у нас есть функция $f(x)=log_e ​(x +3)$. Мы выбрали начальное приближение $x^{t=0} =7$. И шаг градиентного спуска $ α=10 $. Чему будет равен $ x^{t=1} $?"
      ],
      "metadata": {
        "id": "3Ive7TgDmIQ0"
      }
    },
    {
      "cell_type": "code",
      "execution_count": null,
      "metadata": {
        "id": "0bt5EiI8kDUA"
      },
      "outputs": [],
      "source": [
        "# 6"
      ]
    },
    {
      "cell_type": "markdown",
      "source": [
        "# Решение\n",
        "от [Денис Захаров](https://stepik.org/lesson/236465/step/4?discussion=6729315&unit=208888)\n",
        "\n",
        "Производную функции $f(x)$, для не верящих предшественникам, можно посчитать в:\n",
        "\n",
        "[Вольфрамчике](https://www.wolframalpha.com/input?i2d=true&i=D%5BLog%5Be%2Cx%2B3%5D%2Cx%5D)\n",
        "\n",
        "$$\n",
        "f'(x) = \\frac{1}{x+3}\n",
        "$$\n",
        "\n",
        "А дальше по формуле из лекции:\n",
        "\n",
        "$$\n",
        "x^{t+1} =|f(x^{t+1} )=f(x^t -α*f'(x^t ))| =x^t -α*f'(x^t )\n",
        "$$"
      ],
      "metadata": {
        "id": "Rb7Yq-ELkF8E"
      }
    }
  ]
}