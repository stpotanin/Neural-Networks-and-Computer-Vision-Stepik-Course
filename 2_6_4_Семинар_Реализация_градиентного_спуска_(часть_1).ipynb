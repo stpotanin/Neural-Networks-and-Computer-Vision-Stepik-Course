{
  "nbformat": 4,
  "nbformat_minor": 0,
  "metadata": {
    "colab": {
      "provenance": [],
      "authorship_tag": "ABX9TyMMMT+aCWFVj7wIRyoHpJWr"
    },
    "kernelspec": {
      "name": "python3",
      "display_name": "Python 3"
    },
    "language_info": {
      "name": "python"
    }
  },
  "cells": [
    {
      "cell_type": "markdown",
      "source": [
        "# Задача 2.6.4\n",
        "https://stepik.org/lesson/236465/step/4\n",
        "\n",
        "Допустим, у нас есть функция $f(x)=log_e ​(x +3)$. Мы выбрали начальное приближение $x^{t=0} =7$. И шаг градиентного спуска $ α=10 $. Чему будет равен $ x^{t=1} $?"
      ],
      "metadata": {
        "id": "3Ive7TgDmIQ0"
      }
    },
    {
      "cell_type": "code",
      "execution_count": 3,
      "metadata": {
        "id": "0bt5EiI8kDUA",
        "colab": {
          "base_uri": "https://localhost:8080/"
        },
        "outputId": "a3d5f948-419d-41cd-9b45-4583d3a50d86"
      },
      "outputs": [
        {
          "output_type": "execute_result",
          "data": {
            "text/plain": [
              "6.0"
            ]
          },
          "metadata": {},
          "execution_count": 3
        }
      ],
      "source": [
        "7 - 10 / (7 + 3)"
      ]
    },
    {
      "cell_type": "markdown",
      "source": [
        "# Решение\n",
        "\n",
        "Производную функции $f(x)$ можно посчитать в:\n",
        "\n",
        "[Вольфрамчике](https://www.wolframalpha.com/input?i2d=true&i=D%5BLog%5Be%2Cx%2B3%5D%2Cx%5D)\n",
        "\n",
        "$$\n",
        "f'(x) = \\frac{1}{x+3}\n",
        "$$\n",
        "\n",
        "А дальше по формуле из лекции:\n",
        "\n",
        "$$\n",
        "x^{t+1} = x^t -α*f'(x^t )\n",
        "$$"
      ],
      "metadata": {
        "id": "Rb7Yq-ELkF8E"
      }
    }
  ]
}