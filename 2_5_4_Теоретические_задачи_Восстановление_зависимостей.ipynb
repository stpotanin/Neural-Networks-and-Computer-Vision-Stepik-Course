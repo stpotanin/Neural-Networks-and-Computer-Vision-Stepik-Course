{
  "nbformat": 4,
  "nbformat_minor": 0,
  "metadata": {
    "colab": {
      "provenance": [],
      "authorship_tag": "ABX9TyOMfcvPWaJiwUe6ZTfPkaG/"
    },
    "kernelspec": {
      "name": "python3",
      "display_name": "Python 3"
    },
    "language_info": {
      "name": "python"
    }
  },
  "cells": [
    {
      "cell_type": "markdown",
      "source": [
        "# Задача 2.5.4\n",
        "https://stepik.org/lesson/223827/step/4"
      ],
      "metadata": {
        "id": "UPUlf43H7r04"
      }
    },
    {
      "cell_type": "code",
      "execution_count": null,
      "metadata": {
        "id": "3n9OZ3id7oZy"
      },
      "outputs": [],
      "source": [
        "# N"
      ]
    },
    {
      "cell_type": "markdown",
      "source": [
        "# Замечание\n",
        "Момент условия\n",
        "\n",
        "> причем все значения $x_i$ различны\n",
        "\n",
        "не гарантирует отсутствия линейно зависимых строк.\n",
        "\n",
        "Наверно, вопрос лучше переформулировать на \"может сущетвовать\"."
      ],
      "metadata": {
        "id": "nQV91GvQkgSr"
      }
    }
  ]
}