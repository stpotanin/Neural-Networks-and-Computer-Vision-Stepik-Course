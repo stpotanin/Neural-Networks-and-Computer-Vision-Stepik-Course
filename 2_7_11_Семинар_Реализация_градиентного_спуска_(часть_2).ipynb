{
  "nbformat": 4,
  "nbformat_minor": 0,
  "metadata": {
    "colab": {
      "provenance": [],
      "authorship_tag": "ABX9TyPAM2lO1NLLF1aK9QgHF2tF"
    },
    "kernelspec": {
      "name": "python3",
      "display_name": "Python 3"
    },
    "language_info": {
      "name": "python"
    }
  },
  "cells": [
    {
      "cell_type": "markdown",
      "source": [
        "# [Задача 2.7.11](https://stepik.org/lesson/236466/step/)\n",
        "\n",
        "Нам дана функция $ f(x)=x 2 $ и начальная точка $ x^{t=0} =1 $\n",
        "\n",
        "При каком $ α>0 $ градиентный спуск перестает сходиться (итерации не приводят к минизации функции)?\n",
        "\n",
        "P.S: Ответ можно вывести аналитически, а можно подобрать"
      ],
      "metadata": {
        "id": "QlFLOJ74LuwQ"
      }
    },
    {
      "cell_type": "code",
      "source": [
        "# Решение от Ilnaz Khabirov https://stepik.org/lesson/236466/step/11?discussion=9399386&thread=solutions&unit=208889\n",
        "\n",
        "import numpy as np\n",
        "\n",
        "def gradient_descent(alpha, max_iterations=1000, tolerance=1e-6):\n",
        "    x = 1  # начальная точка\n",
        "    for i in range(max_iterations):\n",
        "        gradient = 2*x  # градиент функции x^2\n",
        "        x_new = x - alpha * gradient  # шаг градиентного спуска\n",
        "        if abs(x_new - x) < tolerance:\n",
        "            print(f\"Градиентный спуск сошелся после {i} итераций с alpha = {alpha}\")\n",
        "            return\n",
        "        x = x_new\n",
        "    print(f\"Градиентный спуск не сошелся после {max_iterations} итераций с alpha = {alpha}\")\n",
        "\n",
        "# Проверка различных значений alpha\n",
        "alphas_to_check = np.arange(0.1, 1.1, 0.1)\n",
        "for alpha in alphas_to_check:\n",
        "    gradient_descent(alpha)"
      ],
      "metadata": {
        "colab": {
          "base_uri": "https://localhost:8080/"
        },
        "id": "-O-PN6ZuREzl",
        "outputId": "8773e9fa-3a0b-4eb9-b9ca-28c958aace3e"
      },
      "execution_count": null,
      "outputs": [
        {
          "output_type": "stream",
          "name": "stdout",
          "text": [
            "Градиентный спуск сошелся после 55 итераций с alpha = 0.1\n",
            "Градиентный спуск сошелся после 26 итераций с alpha = 0.2\n",
            "Градиентный спуск сошелся после 15 итераций с alpha = 0.30000000000000004\n",
            "Градиентный спуск сошелся после 9 итераций с alpha = 0.4\n",
            "Градиентный спуск сошелся после 1 итераций с alpha = 0.5\n",
            "Градиентный спуск сошелся после 9 итераций с alpha = 0.6\n",
            "Градиентный спуск сошелся после 16 итераций с alpha = 0.7000000000000001\n",
            "Градиентный спуск сошелся после 28 итераций с alpha = 0.8\n",
            "Градиентный спуск сошелся после 65 итераций с alpha = 0.9\n",
            "Градиентный спуск не сошелся после 1000 итераций с alpha = 1.0\n"
          ]
        }
      ]
    }
  ]
}