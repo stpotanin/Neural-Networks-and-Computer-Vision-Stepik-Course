{
  "nbformat": 4,
  "nbformat_minor": 0,
  "metadata": {
    "colab": {
      "provenance": [],
      "authorship_tag": "ABX9TyNgiIix1ATeSL0USpdOAwVY"
    },
    "kernelspec": {
      "name": "python3",
      "display_name": "Python 3"
    },
    "language_info": {
      "name": "python"
    }
  },
  "cells": [
    {
      "cell_type": "markdown",
      "source": [
        "https://stepik.org/lesson/241452/step/5\n",
        "\n",
        "Пусть мы наблюдали некоторую выборку $m_1,…m_k$. Мы знаем, что все эти измерения были порождены распределением Пуассона с параметром $λ$:\n",
        "\n",
        "$$\n",
        "p(m)= \\frac{λ^m}{m!}exp(−λ)\n",
        "$$\n",
        "\n",
        "Запишите отрицательное логарифмическое правдоподобие для этого события относительно параметра $λ$.\n",
        "\n",
        "Логарифм обозначайте как `log`, сумму $m$ по всем $i$ обозначайте как `sum_i(m_i)`, λ обозначайте как l (маленькая L), используйте `k`."
      ],
      "metadata": {
        "id": "h9edufOIAe_R"
      }
    },
    {
      "cell_type": "code",
      "execution_count": null,
      "metadata": {
        "id": "UZpIj0USAYEs"
      },
      "outputs": [],
      "source": [
        "# k*l-sum_i(m_i)*log(l)"
      ]
    },
    {
      "cell_type": "markdown",
      "source": [
        "# Решение\n",
        "\n",
        "Пуассоновское распределение:\n",
        "\n",
        "$$\n",
        "L(m_1, ..., m_k; λ) = \\prod_{i=1}^{k} \\frac{λ^{m_i}}{m_i!} \\exp(-λ)\n",
        "$$\n",
        "\n",
        "Найдём логарифм этой функции правдоподобия:\n",
        "\n",
        "$$\n",
        "\\log L = \\sum_{i=1}^{k} \\left( m_i \\log λ - λ - \\log(m_i!) \\right)\n",
        "$$\n",
        "\n",
        "Чтобы получить отрицательное логарифмическое правдоподобие, умножаем на $-1$:\n",
        "\n",
        "$$\n",
        "-\\log L = \\sum_{i=1}^{k} \\left( λ - m_i \\log λ + \\log(m_i!) \\right)\n",
        "$$\n",
        "\n",
        "Члены $ \\log(m_i!) $ не зависят от $ λ $ (или $ l $), поэтому их можно отбросить, если нас интересует только часть, зависящая от параметра $ l $. Таким образом, получаем:\n",
        "\n",
        "$$\n",
        "-\\log L = \\sum_{i=1}^{k} \\left( l - m_i \\log l \\right)\n",
        "$$\n",
        "\n",
        "Эту сумму можно упростить:\n",
        "\n",
        "$$\n",
        "-\\log L = k \\cdot l - \\text{sum}_i(m_i) \\cdot \\log l\n",
        "$$"
      ],
      "metadata": {
        "id": "e0SBHW_UPXBk"
      }
    }
  ]
}
