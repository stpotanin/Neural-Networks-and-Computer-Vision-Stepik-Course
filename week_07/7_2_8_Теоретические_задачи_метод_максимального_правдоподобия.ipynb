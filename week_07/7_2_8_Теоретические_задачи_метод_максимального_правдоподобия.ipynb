{
  "nbformat": 4,
  "nbformat_minor": 0,
  "metadata": {
    "colab": {
      "provenance": [],
      "authorship_tag": "ABX9TyOKxA/RrmOJWLoTlsb0Oq0Z"
    },
    "kernelspec": {
      "name": "python3",
      "display_name": "Python 3"
    },
    "language_info": {
      "name": "python"
    }
  },
  "cells": [
    {
      "cell_type": "markdown",
      "source": [
        "https://stepik.org/lesson/241452/step/8\n",
        "\n",
        "[Суть метода максимального правдоподобия](https://youtu.be/2iRIqkm1mug?si=nBxGIIoSK-hQt9Ei) и [Метод максимального правдоподобия в непрерывном случае](https://www.youtube.com/watch?v=9CeB32vxM0A) от Бориса Борисовича\n",
        "\n",
        "# Условие\n",
        "\n",
        "Для [предыдущей задачи](https://stepik.org/lesson/241452/step/7) найдите значение $μ$, при котором достигается максимальное правдоподобие.\n",
        "\n",
        "Суммирование по всем $i$ обозначайте как `sum_i`\n",
        "\n",
        "$$\n",
        "\\frac{1}{\\sqrt{2π}\\sigma}exp(-\\frac{(x-μ)^2}{2\\sigma^2})\n",
        "$$\n",
        "\n",
        "$$\n",
        "-\\log L = N \\cdot \\log \\sigma + \\sum_{i=1}^{N} \\frac{(x_i - \\mu)^2}{2\\sigma^2}\n",
        "$$"
      ],
      "metadata": {
        "id": "h9edufOIAe_R"
      }
    },
    {
      "cell_type": "code",
      "execution_count": null,
      "metadata": {
        "id": "UZpIj0USAYEs"
      },
      "outputs": [],
      "source": [
        "# Приравнивание производной по μ к нулю:\n",
        "# ∂(-logL)/∂μ = - (1/σ²) Σ(xi - μ) = 0\n",
        "\n",
        "# Умножаем обе части на -σ²:\n",
        "# Σ(xi - μ) = 0\n",
        "\n",
        "# Раскрываем сумму:\n",
        "# Σxi - Nμ = 0\n",
        "\n",
        "# Решаем относительно μ:\n",
        "# Nμ = Σxi\n",
        "# μ = (Σxi) / N\n",
        "\n",
        "# Вывод: Оценка максимального правдоподобия для μ равна среднему арифметическому значений xi."
      ]
    },
    {
      "cell_type": "code",
      "source": [
        "# Ответ:\n",
        "# μ (среднее): μ = (Σxi) / N\n",
        "\n",
        "# sum_i(x_i)/N"
      ],
      "metadata": {
        "id": "UHvIhDq_ftuf"
      },
      "execution_count": null,
      "outputs": []
    },
    {
      "cell_type": "markdown",
      "source": [
        "# Решение\n",
        "\n",
        "**Исходное выражение:**\n",
        "\n",
        "$$\n",
        "-\\log L = N \\cdot \\log \\sigma + \\sum_{i=1}^{N} \\frac{(x_i - \\mu)^2}{2\\sigma^2}\n",
        "$$\n",
        "\n",
        "* **Производная по $\\mu$:**\n",
        "$$\n",
        "\\frac{\\partial (-\\log L)}{\\partial \\mu} = -\\frac{1}{\\sigma^2} \\sum_{i=1}^{N} (x_i - \\mu)\n",
        "$$\n",
        "\n",
        "\n",
        "**Приравнивание производной по $\\mu$ к нулю для поиска максимума:**\n",
        "\n",
        "$$\n",
        "\\frac{\\partial (-\\log L)}{\\partial \\mu} = -\\frac{1}{\\sigma^2} \\sum_{i=1}^{N} (x_i - \\mu) = 0\n",
        "$$\n",
        "\n",
        "$$\n",
        "\\sum_{i=1}^{N} (x_i - \\mu) = 0\n",
        "$$\n",
        "\n",
        "$$\n",
        "\\sum_{i=1}^{N} x_i - N\\mu = 0\n",
        "$$\n",
        "\n",
        "$$\n",
        "\\mu = \\frac{\\sum_{i=1}^{N} x_i}{N}\n",
        "$$\n",
        "\n",
        "**Оценка максимального правдоподобия для $\\mu$:**\n",
        "\n",
        "$$\n",
        "\\hat{\\mu} = \\bar{x} = \\frac{1}{N} \\sum_{i=1}^{N} x_i\n",
        "$$\n",
        "\n",
        "\n",
        "**Вывод:**\n",
        "\n",
        "Оценка максимального правдоподобия для параметра $\\mu$:\n",
        "\n",
        "$$\\hat{\\mu} = \\bar{x} = \\frac{1}{N} \\sum_{i=1}^{N} x_i$$ (среднее арифметическое выборки)\n"
      ],
      "metadata": {
        "id": "n7sLZXO27yLN"
      }
    }
  ]
}
