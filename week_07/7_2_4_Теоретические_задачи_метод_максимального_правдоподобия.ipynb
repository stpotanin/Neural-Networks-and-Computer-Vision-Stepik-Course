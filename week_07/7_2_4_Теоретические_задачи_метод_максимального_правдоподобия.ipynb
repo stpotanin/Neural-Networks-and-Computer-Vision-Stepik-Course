{
  "nbformat": 4,
  "nbformat_minor": 0,
  "metadata": {
    "colab": {
      "provenance": [],
      "authorship_tag": "ABX9TyN7RmhPYWhS5T71/fdQilX+"
    },
    "kernelspec": {
      "name": "python3",
      "display_name": "Python 3"
    },
    "language_info": {
      "name": "python"
    }
  },
  "cells": [
    {
      "cell_type": "markdown",
      "source": [
        "https://stepik.org/lesson/241452/step/4\n",
        "\n",
        "Запишите отрицательное логарифмическое правдоподобие (Negative Log Likelihood) для параметров $p_s$, $p_d$ из предыдущей задачи. Отбросьте все члены, которые не зависят от этих параметров.\n",
        "\n",
        "Логарифм обозначайте как $log$, из-под логарифмов вынесите только степени."
      ],
      "metadata": {
        "id": "h9edufOIAe_R"
      }
    },
    {
      "cell_type": "code",
      "execution_count": null,
      "metadata": {
        "id": "UZpIj0USAYEs"
      },
      "outputs": [],
      "source": [
        "# -M*log((1-p_s)*p_d)-(N-M)*log(1-(1-p_s)*p_d)"
      ]
    }
  ]
}
